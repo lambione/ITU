{
 "cells": [
  {
   "cell_type": "markdown",
   "metadata": {},
   "source": [
    "# Exercise 5, Machine Learning 2022\n",
    "\n",
    "The following lab-session is adapted from those of Sections 5.3 and 6.3 in Introduction to Statistical Learning with R.\n",
    "\n",
    "### The Auto dataset\n",
    "We use the `Auto` dataset that was used as an example throughout Chapter 3 on linear regression. Here, we treat the variable `mpg` (gas miles in miles per gallon) as the response and `horsepower` as the single predictor.\n",
    "\n",
    "The data has 392 observations on the following 9 variables.\n",
    "\n",
    "`mpg` miles per gallon\n",
    "\n",
    "`cylinders` Number of cylinders between 4 and 8 displacementEngine displacement (cu. inches) \n",
    "\n",
    "`horsepower` Engine horsepower\n",
    "\n",
    "`weight` Vehicle weight (lbs.)\n",
    "\n",
    "`acceleration` Time to accelerate from 0 to 60 mph (sec.)\n",
    "\n",
    "`year` Model year (modulo 100)\n",
    "\n",
    "`origin` Origin of car (1. American, 2. European, 3. Japanese)\n",
    "\n",
    "`name` Vehicle name"
   ]
  },
  {
   "cell_type": "code",
   "execution_count": 1,
   "metadata": {},
   "outputs": [],
   "source": [
    "# Import relevant packages\n",
    "import numpy as np\n",
    "from pandas import read_csv, DataFrame\n",
    "from math import log, sqrt\n",
    "import matplotlib.pyplot as plt\n",
    "\n",
    "import statsmodels.api as sm\n",
    "import statsmodels.formula.api as smf \n",
    "\n",
    "import random"
   ]
  },
  {
   "cell_type": "code",
   "execution_count": 2,
   "metadata": {
    "scrolled": false
   },
   "outputs": [
    {
     "data": {
      "text/html": [
       "<div>\n",
       "<style scoped>\n",
       "    .dataframe tbody tr th:only-of-type {\n",
       "        vertical-align: middle;\n",
       "    }\n",
       "\n",
       "    .dataframe tbody tr th {\n",
       "        vertical-align: top;\n",
       "    }\n",
       "\n",
       "    .dataframe thead th {\n",
       "        text-align: right;\n",
       "    }\n",
       "</style>\n",
       "<table border=\"1\" class=\"dataframe\">\n",
       "  <thead>\n",
       "    <tr style=\"text-align: right;\">\n",
       "      <th></th>\n",
       "      <th>mpg</th>\n",
       "      <th>cylinders</th>\n",
       "      <th>displacement</th>\n",
       "      <th>horsepower</th>\n",
       "      <th>weight</th>\n",
       "      <th>acceleration</th>\n",
       "      <th>year</th>\n",
       "      <th>origin</th>\n",
       "      <th>name</th>\n",
       "    </tr>\n",
       "  </thead>\n",
       "  <tbody>\n",
       "    <tr>\n",
       "      <th>0</th>\n",
       "      <td>18.0</td>\n",
       "      <td>8</td>\n",
       "      <td>307.0</td>\n",
       "      <td>130</td>\n",
       "      <td>3504</td>\n",
       "      <td>12.0</td>\n",
       "      <td>70</td>\n",
       "      <td>1</td>\n",
       "      <td>chevrolet chevelle malibu</td>\n",
       "    </tr>\n",
       "    <tr>\n",
       "      <th>1</th>\n",
       "      <td>15.0</td>\n",
       "      <td>8</td>\n",
       "      <td>350.0</td>\n",
       "      <td>165</td>\n",
       "      <td>3693</td>\n",
       "      <td>11.5</td>\n",
       "      <td>70</td>\n",
       "      <td>1</td>\n",
       "      <td>buick skylark 320</td>\n",
       "    </tr>\n",
       "    <tr>\n",
       "      <th>2</th>\n",
       "      <td>18.0</td>\n",
       "      <td>8</td>\n",
       "      <td>318.0</td>\n",
       "      <td>150</td>\n",
       "      <td>3436</td>\n",
       "      <td>11.0</td>\n",
       "      <td>70</td>\n",
       "      <td>1</td>\n",
       "      <td>plymouth satellite</td>\n",
       "    </tr>\n",
       "    <tr>\n",
       "      <th>3</th>\n",
       "      <td>16.0</td>\n",
       "      <td>8</td>\n",
       "      <td>304.0</td>\n",
       "      <td>150</td>\n",
       "      <td>3433</td>\n",
       "      <td>12.0</td>\n",
       "      <td>70</td>\n",
       "      <td>1</td>\n",
       "      <td>amc rebel sst</td>\n",
       "    </tr>\n",
       "    <tr>\n",
       "      <th>4</th>\n",
       "      <td>17.0</td>\n",
       "      <td>8</td>\n",
       "      <td>302.0</td>\n",
       "      <td>140</td>\n",
       "      <td>3449</td>\n",
       "      <td>10.5</td>\n",
       "      <td>70</td>\n",
       "      <td>1</td>\n",
       "      <td>ford torino</td>\n",
       "    </tr>\n",
       "  </tbody>\n",
       "</table>\n",
       "</div>"
      ],
      "text/plain": [
       "    mpg  cylinders  displacement  horsepower  weight  acceleration  year  \\\n",
       "0  18.0          8         307.0         130    3504          12.0    70   \n",
       "1  15.0          8         350.0         165    3693          11.5    70   \n",
       "2  18.0          8         318.0         150    3436          11.0    70   \n",
       "3  16.0          8         304.0         150    3433          12.0    70   \n",
       "4  17.0          8         302.0         140    3449          10.5    70   \n",
       "\n",
       "   origin                       name  \n",
       "0       1  chevrolet chevelle malibu  \n",
       "1       1          buick skylark 320  \n",
       "2       1         plymouth satellite  \n",
       "3       1              amc rebel sst  \n",
       "4       1                ford torino  "
      ]
     },
     "execution_count": 2,
     "metadata": {},
     "output_type": "execute_result"
    }
   ],
   "source": [
    "# Load data from csv; change the directory as you need!\n",
    "auto = read_csv(\"Auto.csv\")\n",
    "auto.head()"
   ]
  },
  {
   "cell_type": "markdown",
   "metadata": {},
   "source": [
    "*It is recommended that you set a random seed, so that any results based on randomness are recreated whenever you run the notebook.*"
   ]
  },
  {
   "cell_type": "code",
   "execution_count": 3,
   "metadata": {},
   "outputs": [],
   "source": [
    "## Set seed!\n",
    "random.seed(30)"
   ]
  },
  {
   "cell_type": "markdown",
   "metadata": {},
   "source": [
    "## The validation set approach\n",
    "\n",
    "### TO DO\n",
    "\n",
    "- Split the set of observations into two halves by selecting a random subset of 196 obervations out of the original 392 observations. We refer to these observations as the *training set* and the remaining observations as the *validation set*.    \n",
    "- **TIPS**: _For creating the random split, you can use `random.sample(seq, n)` to select `n` numbers without replacement from the sequence `seq`. (There is also a built-in function `train_test_split` that can split your data, but here you split it yourself so that you understand in detail how to achieve the datasets)._"
   ]
  },
  {
   "cell_type": "code",
   "execution_count": 4,
   "metadata": {},
   "outputs": [],
   "source": [
    "def randomize_split(n, n_samples):\n",
    "    \n",
    "    train_idx = random.sample([x for x in range(n)], n_samples)\n",
    "\n",
    "    val_idx = [x for x in range(n) if x not in train_idx]\n",
    "    \n",
    "    return train_idx, val_idx"
   ]
  },
  {
   "cell_type": "code",
   "execution_count": 5,
   "metadata": {},
   "outputs": [],
   "source": [
    "train_idx, val_idx = randomize_split(392, 196)"
   ]
  },
  {
   "cell_type": "code",
   "execution_count": 6,
   "metadata": {},
   "outputs": [],
   "source": [
    "train = auto.iloc[train_idx, :]\n",
    "X_train = train[\"horsepower\"]\n",
    "X_train = sm.add_constant(X_train) #add column of 1s in the design matrix bc statsmodels doesn't automatically do this\n",
    "y_train = train[\"mpg\"]\n",
    "\n",
    "val = auto.iloc[val_idx, :]\n",
    "X_val = val[\"horsepower\"]\n",
    "X_val = sm.add_constant(X_val)\n",
    "y_val = val[\"mpg\"]"
   ]
  },
  {
   "cell_type": "code",
   "execution_count": 7,
   "metadata": {},
   "outputs": [
    {
     "name": "stdout",
     "output_type": "stream",
     "text": [
      "(196, 2)\n",
      "(196,)\n",
      "(196, 2)\n",
      "(196,)\n"
     ]
    }
   ],
   "source": [
    "print(X_train.shape)\n",
    "print(y_train.shape)\n",
    "\n",
    "print(X_val.shape)\n",
    "print(y_val.shape)"
   ]
  },
  {
   "cell_type": "markdown",
   "metadata": {},
   "source": [
    "### Print design matrix to see what it looks like"
   ]
  },
  {
   "cell_type": "code",
   "execution_count": 8,
   "metadata": {},
   "outputs": [
    {
     "name": "stdout",
     "output_type": "stream",
     "text": [
      "     const  horsepower\n",
      "276    1.0          71\n",
      "148    1.0          93\n",
      "312    1.0          88\n",
      "15     1.0          95\n",
      "318    1.0          92\n",
      "..     ...         ...\n",
      "77     1.0          87\n",
      "355    1.0          76\n",
      "300    1.0          70\n",
      "89     1.0         198\n",
      "38     1.0         175\n",
      "\n",
      "[196 rows x 2 columns]\n"
     ]
    }
   ],
   "source": [
    "print(X_train)"
   ]
  },
  {
   "cell_type": "markdown",
   "metadata": {},
   "source": [
    "### TO DO\n",
    "- Fit a linear regression on the training set: `mpg`$= \\beta_0 + \\beta_1$ `horsepower` $+\\epsilon$."
   ]
  },
  {
   "cell_type": "code",
   "execution_count": 9,
   "metadata": {},
   "outputs": [
    {
     "data": {
      "text/html": [
       "<table class=\"simpletable\">\n",
       "<caption>OLS Regression Results</caption>\n",
       "<tr>\n",
       "  <th>Dep. Variable:</th>           <td>mpg</td>       <th>  R-squared:         </th> <td>   0.605</td>\n",
       "</tr>\n",
       "<tr>\n",
       "  <th>Model:</th>                   <td>OLS</td>       <th>  Adj. R-squared:    </th> <td>   0.603</td>\n",
       "</tr>\n",
       "<tr>\n",
       "  <th>Method:</th>             <td>Least Squares</td>  <th>  F-statistic:       </th> <td>   296.7</td>\n",
       "</tr>\n",
       "<tr>\n",
       "  <th>Date:</th>             <td>Tue, 10 Sep 2024</td> <th>  Prob (F-statistic):</th> <td>5.93e-41</td>\n",
       "</tr>\n",
       "<tr>\n",
       "  <th>Time:</th>                 <td>11:01:13</td>     <th>  Log-Likelihood:    </th> <td> -593.79</td>\n",
       "</tr>\n",
       "<tr>\n",
       "  <th>No. Observations:</th>      <td>   196</td>      <th>  AIC:               </th> <td>   1192.</td>\n",
       "</tr>\n",
       "<tr>\n",
       "  <th>Df Residuals:</th>          <td>   194</td>      <th>  BIC:               </th> <td>   1198.</td>\n",
       "</tr>\n",
       "<tr>\n",
       "  <th>Df Model:</th>              <td>     1</td>      <th>                     </th>     <td> </td>   \n",
       "</tr>\n",
       "<tr>\n",
       "  <th>Covariance Type:</th>      <td>nonrobust</td>    <th>                     </th>     <td> </td>   \n",
       "</tr>\n",
       "</table>\n",
       "<table class=\"simpletable\">\n",
       "<tr>\n",
       "       <td></td>         <th>coef</th>     <th>std err</th>      <th>t</th>      <th>P>|t|</th>  <th>[0.025</th>    <th>0.975]</th>  \n",
       "</tr>\n",
       "<tr>\n",
       "  <th>const</th>      <td>   39.9738</td> <td>    1.024</td> <td>   39.029</td> <td> 0.000</td> <td>   37.954</td> <td>   41.994</td>\n",
       "</tr>\n",
       "<tr>\n",
       "  <th>horsepower</th> <td>   -0.1575</td> <td>    0.009</td> <td>  -17.225</td> <td> 0.000</td> <td>   -0.175</td> <td>   -0.139</td>\n",
       "</tr>\n",
       "</table>\n",
       "<table class=\"simpletable\">\n",
       "<tr>\n",
       "  <th>Omnibus:</th>       <td>14.826</td> <th>  Durbin-Watson:     </th> <td>   2.088</td>\n",
       "</tr>\n",
       "<tr>\n",
       "  <th>Prob(Omnibus):</th> <td> 0.001</td> <th>  Jarque-Bera (JB):  </th> <td>  16.035</td>\n",
       "</tr>\n",
       "<tr>\n",
       "  <th>Skew:</th>          <td> 0.632</td> <th>  Prob(JB):          </th> <td>0.000330</td>\n",
       "</tr>\n",
       "<tr>\n",
       "  <th>Kurtosis:</th>      <td> 3.605</td> <th>  Cond. No.          </th> <td>    319.</td>\n",
       "</tr>\n",
       "</table><br/><br/>Notes:<br/>[1] Standard Errors assume that the covariance matrix of the errors is correctly specified."
      ],
      "text/latex": [
       "\\begin{center}\n",
       "\\begin{tabular}{lclc}\n",
       "\\toprule\n",
       "\\textbf{Dep. Variable:}    &       mpg        & \\textbf{  R-squared:         } &     0.605   \\\\\n",
       "\\textbf{Model:}            &       OLS        & \\textbf{  Adj. R-squared:    } &     0.603   \\\\\n",
       "\\textbf{Method:}           &  Least Squares   & \\textbf{  F-statistic:       } &     296.7   \\\\\n",
       "\\textbf{Date:}             & Tue, 10 Sep 2024 & \\textbf{  Prob (F-statistic):} &  5.93e-41   \\\\\n",
       "\\textbf{Time:}             &     11:01:13     & \\textbf{  Log-Likelihood:    } &   -593.79   \\\\\n",
       "\\textbf{No. Observations:} &         196      & \\textbf{  AIC:               } &     1192.   \\\\\n",
       "\\textbf{Df Residuals:}     &         194      & \\textbf{  BIC:               } &     1198.   \\\\\n",
       "\\textbf{Df Model:}         &           1      & \\textbf{                     } &             \\\\\n",
       "\\textbf{Covariance Type:}  &    nonrobust     & \\textbf{                     } &             \\\\\n",
       "\\bottomrule\n",
       "\\end{tabular}\n",
       "\\begin{tabular}{lcccccc}\n",
       "                    & \\textbf{coef} & \\textbf{std err} & \\textbf{t} & \\textbf{P$> |$t$|$} & \\textbf{[0.025} & \\textbf{0.975]}  \\\\\n",
       "\\midrule\n",
       "\\textbf{const}      &      39.9738  &        1.024     &    39.029  &         0.000        &       37.954    &       41.994     \\\\\n",
       "\\textbf{horsepower} &      -0.1575  &        0.009     &   -17.225  &         0.000        &       -0.175    &       -0.139     \\\\\n",
       "\\bottomrule\n",
       "\\end{tabular}\n",
       "\\begin{tabular}{lclc}\n",
       "\\textbf{Omnibus:}       & 14.826 & \\textbf{  Durbin-Watson:     } &    2.088  \\\\\n",
       "\\textbf{Prob(Omnibus):} &  0.001 & \\textbf{  Jarque-Bera (JB):  } &   16.035  \\\\\n",
       "\\textbf{Skew:}          &  0.632 & \\textbf{  Prob(JB):          } & 0.000330  \\\\\n",
       "\\textbf{Kurtosis:}      &  3.605 & \\textbf{  Cond. No.          } &     319.  \\\\\n",
       "\\bottomrule\n",
       "\\end{tabular}\n",
       "%\\caption{OLS Regression Results}\n",
       "\\end{center}\n",
       "\n",
       "Notes: \\newline\n",
       " [1] Standard Errors assume that the covariance matrix of the errors is correctly specified."
      ],
      "text/plain": [
       "<class 'statsmodels.iolib.summary.Summary'>\n",
       "\"\"\"\n",
       "                            OLS Regression Results                            \n",
       "==============================================================================\n",
       "Dep. Variable:                    mpg   R-squared:                       0.605\n",
       "Model:                            OLS   Adj. R-squared:                  0.603\n",
       "Method:                 Least Squares   F-statistic:                     296.7\n",
       "Date:                Tue, 10 Sep 2024   Prob (F-statistic):           5.93e-41\n",
       "Time:                        11:01:13   Log-Likelihood:                -593.79\n",
       "No. Observations:                 196   AIC:                             1192.\n",
       "Df Residuals:                     194   BIC:                             1198.\n",
       "Df Model:                           1                                         \n",
       "Covariance Type:            nonrobust                                         \n",
       "==============================================================================\n",
       "                 coef    std err          t      P>|t|      [0.025      0.975]\n",
       "------------------------------------------------------------------------------\n",
       "const         39.9738      1.024     39.029      0.000      37.954      41.994\n",
       "horsepower    -0.1575      0.009    -17.225      0.000      -0.175      -0.139\n",
       "==============================================================================\n",
       "Omnibus:                       14.826   Durbin-Watson:                   2.088\n",
       "Prob(Omnibus):                  0.001   Jarque-Bera (JB):               16.035\n",
       "Skew:                           0.632   Prob(JB):                     0.000330\n",
       "Kurtosis:                       3.605   Cond. No.                         319.\n",
       "==============================================================================\n",
       "\n",
       "Notes:\n",
       "[1] Standard Errors assume that the covariance matrix of the errors is correctly specified.\n",
       "\"\"\""
      ]
     },
     "execution_count": 9,
     "metadata": {},
     "output_type": "execute_result"
    }
   ],
   "source": [
    "lm1 = sm.OLS(y_train, X_train).fit()\n",
    "lm1.summary()"
   ]
  },
  {
   "cell_type": "markdown",
   "metadata": {},
   "source": [
    "Compute the MSE on the 196 observations that are the validation set."
   ]
  },
  {
   "cell_type": "markdown",
   "metadata": {},
   "source": [
    "### Get predictions on the validation set and calculate the MSE"
   ]
  },
  {
   "cell_type": "code",
   "execution_count": 12,
   "metadata": {},
   "outputs": [
    {
     "data": {
      "text/plain": [
       "2      16.356248\n",
       "4      17.930753\n",
       "6       5.334711\n",
       "7       6.121964\n",
       "8       4.547459\n",
       "         ...    \n",
       "385    26.747983\n",
       "386    25.803280\n",
       "388    31.786399\n",
       "389    26.747983\n",
       "390    27.535235\n",
       "Length: 196, dtype: float64"
      ]
     },
     "execution_count": 12,
     "metadata": {},
     "output_type": "execute_result"
    }
   ],
   "source": [
    "lm1.predict(X_val)"
   ]
  },
  {
   "cell_type": "code",
   "execution_count": 10,
   "metadata": {},
   "outputs": [],
   "source": [
    "pred_val =  lm1.get_prediction(X_val).summary_frame()[\"mean\"]"
   ]
  },
  {
   "cell_type": "markdown",
   "metadata": {},
   "source": [
    "statsmodels.tools.eval_measures.mse(x1, x2, axis=0)"
   ]
  },
  {
   "cell_type": "code",
   "execution_count": 13,
   "metadata": {},
   "outputs": [
    {
     "data": {
      "text/plain": [
       "22.842577966182787"
      ]
     },
     "execution_count": 13,
     "metadata": {},
     "output_type": "execute_result"
    }
   ],
   "source": [
    "mse_val = sm.tools.eval_measures.mse(y_val, pred_val)\n",
    "mse_val"
   ]
  },
  {
   "cell_type": "markdown",
   "metadata": {},
   "source": [
    "### TO DO \n",
    "- Now estimate also the MSE for the quadradic and cubic regressions.\n",
    "The ISLwR book found an estimated test MSE of (23.27, 18.27, and 18.79) for the three regression models. "
   ]
  },
  {
   "cell_type": "markdown",
   "metadata": {},
   "source": [
    "### Function for getting the MSE of a given statsmodels model"
   ]
  },
  {
   "cell_type": "code",
   "execution_count": 14,
   "metadata": {},
   "outputs": [],
   "source": [
    "def get_mse(model, X, y):\n",
    "    \n",
    "    preds =  model.get_prediction(X).summary_frame()[\"mean\"]\n",
    "    mse = sm.tools.eval_measures.mse(y, preds)\n",
    "    \n",
    "    return mse"
   ]
  },
  {
   "cell_type": "markdown",
   "metadata": {},
   "source": [
    "### Fit quadratic and cubic regressions using statsmodels"
   ]
  },
  {
   "cell_type": "markdown",
   "metadata": {},
   "source": [
    "### sm.OLS method"
   ]
  },
  {
   "cell_type": "markdown",
   "metadata": {},
   "source": [
    "We need the polynomial features in the design matrix (X) so to do that I will use the PolynomialFeatures class from sklearn to get the design matrices in very few lines of code"
   ]
  },
  {
   "cell_type": "code",
   "execution_count": 16,
   "metadata": {},
   "outputs": [],
   "source": [
    "from sklearn.preprocessing import PolynomialFeatures"
   ]
  },
  {
   "cell_type": "code",
   "execution_count": 18,
   "metadata": {},
   "outputs": [],
   "source": [
    "X = train[\"horsepower\"].to_numpy()\n",
    "polynomial_features= PolynomialFeatures(degree=2)\n",
    "X_train_2deg = polynomial_features.fit_transform(X.reshape(-1,1)) #if you don't reshape X as such if it's a single feature\n",
    "                                                                #vector you will get an error telling you to do so"
   ]
  },
  {
   "cell_type": "markdown",
   "metadata": {},
   "source": [
    "### Check out what the design matrix for the quadratic model looks like"
   ]
  },
  {
   "cell_type": "code",
   "execution_count": 19,
   "metadata": {},
   "outputs": [
    {
     "data": {
      "text/plain": [
       "(196, 3)"
      ]
     },
     "execution_count": 19,
     "metadata": {},
     "output_type": "execute_result"
    }
   ],
   "source": [
    "X_train_2deg.shape"
   ]
  },
  {
   "cell_type": "code",
   "execution_count": 20,
   "metadata": {},
   "outputs": [
    {
     "data": {
      "text/plain": [
       "array([[1.0000e+00, 7.1000e+01, 5.0410e+03],\n",
       "       [1.0000e+00, 9.3000e+01, 8.6490e+03],\n",
       "       [1.0000e+00, 8.8000e+01, 7.7440e+03],\n",
       "       [1.0000e+00, 9.5000e+01, 9.0250e+03],\n",
       "       [1.0000e+00, 9.2000e+01, 8.4640e+03],\n",
       "       [1.0000e+00, 8.4000e+01, 7.0560e+03],\n",
       "       [1.0000e+00, 8.8000e+01, 7.7440e+03],\n",
       "       [1.0000e+00, 1.0000e+02, 1.0000e+04],\n",
       "       [1.0000e+00, 9.0000e+01, 8.1000e+03],\n",
       "       [1.0000e+00, 7.5000e+01, 5.6250e+03],\n",
       "       [1.0000e+00, 9.0000e+01, 8.1000e+03],\n",
       "       [1.0000e+00, 6.7000e+01, 4.4890e+03],\n",
       "       [1.0000e+00, 1.6000e+02, 2.5600e+04],\n",
       "       [1.0000e+00, 1.8000e+02, 3.2400e+04],\n",
       "       [1.0000e+00, 8.3000e+01, 6.8890e+03],\n",
       "       [1.0000e+00, 1.5000e+02, 2.2500e+04],\n",
       "       [1.0000e+00, 7.5000e+01, 5.6250e+03],\n",
       "       [1.0000e+00, 9.5000e+01, 9.0250e+03],\n",
       "       [1.0000e+00, 2.2500e+02, 5.0625e+04],\n",
       "       [1.0000e+00, 1.6500e+02, 2.7225e+04],\n",
       "       [1.0000e+00, 9.7000e+01, 9.4090e+03],\n",
       "       [1.0000e+00, 9.0000e+01, 8.1000e+03],\n",
       "       [1.0000e+00, 9.7000e+01, 9.4090e+03],\n",
       "       [1.0000e+00, 1.0200e+02, 1.0404e+04],\n",
       "       [1.0000e+00, 8.4000e+01, 7.0560e+03],\n",
       "       [1.0000e+00, 1.1500e+02, 1.3225e+04],\n",
       "       [1.0000e+00, 1.1500e+02, 1.3225e+04],\n",
       "       [1.0000e+00, 1.0000e+02, 1.0000e+04],\n",
       "       [1.0000e+00, 9.2000e+01, 8.4640e+03],\n",
       "       [1.0000e+00, 1.5000e+02, 2.2500e+04],\n",
       "       [1.0000e+00, 6.7000e+01, 4.4890e+03],\n",
       "       [1.0000e+00, 1.4200e+02, 2.0164e+04],\n",
       "       [1.0000e+00, 6.2000e+01, 3.8440e+03],\n",
       "       [1.0000e+00, 6.1000e+01, 3.7210e+03],\n",
       "       [1.0000e+00, 1.4500e+02, 2.1025e+04],\n",
       "       [1.0000e+00, 1.2500e+02, 1.5625e+04],\n",
       "       [1.0000e+00, 8.6000e+01, 7.3960e+03],\n",
       "       [1.0000e+00, 6.8000e+01, 4.6240e+03],\n",
       "       [1.0000e+00, 5.2000e+01, 2.7040e+03],\n",
       "       [1.0000e+00, 6.7000e+01, 4.4890e+03],\n",
       "       [1.0000e+00, 1.5500e+02, 2.4025e+04],\n",
       "       [1.0000e+00, 8.0000e+01, 6.4000e+03],\n",
       "       [1.0000e+00, 9.0000e+01, 8.1000e+03],\n",
       "       [1.0000e+00, 8.8000e+01, 7.7440e+03],\n",
       "       [1.0000e+00, 1.1000e+02, 1.2100e+04],\n",
       "       [1.0000e+00, 2.0800e+02, 4.3264e+04],\n",
       "       [1.0000e+00, 6.5000e+01, 4.2250e+03],\n",
       "       [1.0000e+00, 1.0500e+02, 1.1025e+04],\n",
       "       [1.0000e+00, 6.5000e+01, 4.2250e+03],\n",
       "       [1.0000e+00, 1.2000e+02, 1.4400e+04],\n",
       "       [1.0000e+00, 6.7000e+01, 4.4890e+03],\n",
       "       [1.0000e+00, 9.7000e+01, 9.4090e+03],\n",
       "       [1.0000e+00, 8.8000e+01, 7.7440e+03],\n",
       "       [1.0000e+00, 9.5000e+01, 9.0250e+03],\n",
       "       [1.0000e+00, 8.6000e+01, 7.3960e+03],\n",
       "       [1.0000e+00, 9.5000e+01, 9.0250e+03],\n",
       "       [1.0000e+00, 1.2000e+02, 1.4400e+04],\n",
       "       [1.0000e+00, 1.1000e+02, 1.2100e+04],\n",
       "       [1.0000e+00, 1.7000e+02, 2.8900e+04],\n",
       "       [1.0000e+00, 1.5800e+02, 2.4964e+04],\n",
       "       [1.0000e+00, 9.5000e+01, 9.0250e+03],\n",
       "       [1.0000e+00, 6.2000e+01, 3.8440e+03],\n",
       "       [1.0000e+00, 1.7500e+02, 3.0625e+04],\n",
       "       [1.0000e+00, 1.1000e+02, 1.2100e+04],\n",
       "       [1.0000e+00, 9.6000e+01, 9.2160e+03],\n",
       "       [1.0000e+00, 1.3900e+02, 1.9321e+04],\n",
       "       [1.0000e+00, 7.8000e+01, 6.0840e+03],\n",
       "       [1.0000e+00, 7.1000e+01, 5.0410e+03],\n",
       "       [1.0000e+00, 9.7000e+01, 9.4090e+03],\n",
       "       [1.0000e+00, 9.7000e+01, 9.4090e+03],\n",
       "       [1.0000e+00, 8.8000e+01, 7.7440e+03],\n",
       "       [1.0000e+00, 1.7000e+02, 2.8900e+04],\n",
       "       [1.0000e+00, 6.5000e+01, 4.2250e+03],\n",
       "       [1.0000e+00, 4.8000e+01, 2.3040e+03],\n",
       "       [1.0000e+00, 1.4000e+02, 1.9600e+04],\n",
       "       [1.0000e+00, 1.0500e+02, 1.1025e+04],\n",
       "       [1.0000e+00, 7.0000e+01, 4.9000e+03],\n",
       "       [1.0000e+00, 6.5000e+01, 4.2250e+03],\n",
       "       [1.0000e+00, 7.1000e+01, 5.0410e+03],\n",
       "       [1.0000e+00, 7.5000e+01, 5.6250e+03],\n",
       "       [1.0000e+00, 1.3700e+02, 1.8769e+04],\n",
       "       [1.0000e+00, 2.2500e+02, 5.0625e+04],\n",
       "       [1.0000e+00, 1.3200e+02, 1.7424e+04],\n",
       "       [1.0000e+00, 6.7000e+01, 4.4890e+03],\n",
       "       [1.0000e+00, 7.5000e+01, 5.6250e+03],\n",
       "       [1.0000e+00, 8.0000e+01, 6.4000e+03],\n",
       "       [1.0000e+00, 2.3000e+02, 5.2900e+04],\n",
       "       [1.0000e+00, 9.4000e+01, 8.8360e+03],\n",
       "       [1.0000e+00, 5.2000e+01, 2.7040e+03],\n",
       "       [1.0000e+00, 1.0000e+02, 1.0000e+04],\n",
       "       [1.0000e+00, 1.4500e+02, 2.1025e+04],\n",
       "       [1.0000e+00, 7.2000e+01, 5.1840e+03],\n",
       "       [1.0000e+00, 1.6500e+02, 2.7225e+04],\n",
       "       [1.0000e+00, 6.0000e+01, 3.6000e+03],\n",
       "       [1.0000e+00, 7.0000e+01, 4.9000e+03],\n",
       "       [1.0000e+00, 7.2000e+01, 5.1840e+03],\n",
       "       [1.0000e+00, 1.1000e+02, 1.2100e+04],\n",
       "       [1.0000e+00, 8.1000e+01, 6.5610e+03],\n",
       "       [1.0000e+00, 8.0000e+01, 6.4000e+03],\n",
       "       [1.0000e+00, 9.5000e+01, 9.0250e+03],\n",
       "       [1.0000e+00, 6.4000e+01, 4.0960e+03],\n",
       "       [1.0000e+00, 6.8000e+01, 4.6240e+03],\n",
       "       [1.0000e+00, 1.0500e+02, 1.1025e+04],\n",
       "       [1.0000e+00, 8.5000e+01, 7.2250e+03],\n",
       "       [1.0000e+00, 1.2900e+02, 1.6641e+04],\n",
       "       [1.0000e+00, 6.5000e+01, 4.2250e+03],\n",
       "       [1.0000e+00, 1.0500e+02, 1.1025e+04],\n",
       "       [1.0000e+00, 1.6500e+02, 2.7225e+04],\n",
       "       [1.0000e+00, 9.7000e+01, 9.4090e+03],\n",
       "       [1.0000e+00, 9.7000e+01, 9.4090e+03],\n",
       "       [1.0000e+00, 7.4000e+01, 5.4760e+03],\n",
       "       [1.0000e+00, 9.5000e+01, 9.0250e+03],\n",
       "       [1.0000e+00, 1.0300e+02, 1.0609e+04],\n",
       "       [1.0000e+00, 8.8000e+01, 7.7440e+03],\n",
       "       [1.0000e+00, 9.8000e+01, 9.6040e+03],\n",
       "       [1.0000e+00, 7.0000e+01, 4.9000e+03],\n",
       "       [1.0000e+00, 1.4000e+02, 1.9600e+04],\n",
       "       [1.0000e+00, 1.0000e+02, 1.0000e+04],\n",
       "       [1.0000e+00, 1.0500e+02, 1.1025e+04],\n",
       "       [1.0000e+00, 1.5000e+02, 2.2500e+04],\n",
       "       [1.0000e+00, 1.0500e+02, 1.1025e+04],\n",
       "       [1.0000e+00, 6.8000e+01, 4.6240e+03],\n",
       "       [1.0000e+00, 7.1000e+01, 5.0410e+03],\n",
       "       [1.0000e+00, 6.7000e+01, 4.4890e+03],\n",
       "       [1.0000e+00, 1.1000e+02, 1.2100e+04],\n",
       "       [1.0000e+00, 6.3000e+01, 3.9690e+03],\n",
       "       [1.0000e+00, 4.8000e+01, 2.3040e+03],\n",
       "       [1.0000e+00, 7.0000e+01, 4.9000e+03],\n",
       "       [1.0000e+00, 8.8000e+01, 7.7440e+03],\n",
       "       [1.0000e+00, 1.0800e+02, 1.1664e+04],\n",
       "       [1.0000e+00, 6.6000e+01, 4.3560e+03],\n",
       "       [1.0000e+00, 1.6500e+02, 2.7225e+04],\n",
       "       [1.0000e+00, 1.3300e+02, 1.7689e+04],\n",
       "       [1.0000e+00, 9.6000e+01, 9.2160e+03],\n",
       "       [1.0000e+00, 1.0000e+02, 1.0000e+04],\n",
       "       [1.0000e+00, 9.0000e+01, 8.1000e+03],\n",
       "       [1.0000e+00, 8.5000e+01, 7.2250e+03],\n",
       "       [1.0000e+00, 1.0500e+02, 1.1025e+04],\n",
       "       [1.0000e+00, 1.5000e+02, 2.2500e+04],\n",
       "       [1.0000e+00, 8.5000e+01, 7.2250e+03],\n",
       "       [1.0000e+00, 7.6000e+01, 5.7760e+03],\n",
       "       [1.0000e+00, 5.3000e+01, 2.8090e+03],\n",
       "       [1.0000e+00, 1.8000e+02, 3.2400e+04],\n",
       "       [1.0000e+00, 1.5000e+02, 2.2500e+04],\n",
       "       [1.0000e+00, 8.2000e+01, 6.7240e+03],\n",
       "       [1.0000e+00, 1.4900e+02, 2.2201e+04],\n",
       "       [1.0000e+00, 9.2000e+01, 8.4640e+03],\n",
       "       [1.0000e+00, 9.0000e+01, 8.1000e+03],\n",
       "       [1.0000e+00, 1.3000e+02, 1.6900e+04],\n",
       "       [1.0000e+00, 1.2200e+02, 1.4884e+04],\n",
       "       [1.0000e+00, 9.0000e+01, 8.1000e+03],\n",
       "       [1.0000e+00, 1.4500e+02, 2.1025e+04],\n",
       "       [1.0000e+00, 8.3000e+01, 6.8890e+03],\n",
       "       [1.0000e+00, 2.1500e+02, 4.6225e+04],\n",
       "       [1.0000e+00, 8.8000e+01, 7.7440e+03],\n",
       "       [1.0000e+00, 1.0000e+02, 1.0000e+04],\n",
       "       [1.0000e+00, 7.7000e+01, 5.9290e+03],\n",
       "       [1.0000e+00, 8.6000e+01, 7.3960e+03],\n",
       "       [1.0000e+00, 7.5000e+01, 5.6250e+03],\n",
       "       [1.0000e+00, 1.5000e+02, 2.2500e+04],\n",
       "       [1.0000e+00, 7.2000e+01, 5.1840e+03],\n",
       "       [1.0000e+00, 9.0000e+01, 8.1000e+03],\n",
       "       [1.0000e+00, 1.7500e+02, 3.0625e+04],\n",
       "       [1.0000e+00, 1.5000e+02, 2.2500e+04],\n",
       "       [1.0000e+00, 1.8000e+02, 3.2400e+04],\n",
       "       [1.0000e+00, 1.4000e+02, 1.9600e+04],\n",
       "       [1.0000e+00, 2.1000e+02, 4.4100e+04],\n",
       "       [1.0000e+00, 9.0000e+01, 8.1000e+03],\n",
       "       [1.0000e+00, 7.6000e+01, 5.7760e+03],\n",
       "       [1.0000e+00, 8.9000e+01, 7.9210e+03],\n",
       "       [1.0000e+00, 6.9000e+01, 4.7610e+03],\n",
       "       [1.0000e+00, 1.1200e+02, 1.2544e+04],\n",
       "       [1.0000e+00, 1.0000e+02, 1.0000e+04],\n",
       "       [1.0000e+00, 4.6000e+01, 2.1160e+03],\n",
       "       [1.0000e+00, 8.8000e+01, 7.7440e+03],\n",
       "       [1.0000e+00, 1.1000e+02, 1.2100e+04],\n",
       "       [1.0000e+00, 1.5000e+02, 2.2500e+04],\n",
       "       [1.0000e+00, 5.3000e+01, 2.8090e+03],\n",
       "       [1.0000e+00, 1.1000e+02, 1.2100e+04],\n",
       "       [1.0000e+00, 1.5000e+02, 2.2500e+04],\n",
       "       [1.0000e+00, 1.9800e+02, 3.9204e+04],\n",
       "       [1.0000e+00, 9.5000e+01, 9.0250e+03],\n",
       "       [1.0000e+00, 6.5000e+01, 4.2250e+03],\n",
       "       [1.0000e+00, 7.5000e+01, 5.6250e+03],\n",
       "       [1.0000e+00, 1.7000e+02, 2.8900e+04],\n",
       "       [1.0000e+00, 8.5000e+01, 7.2250e+03],\n",
       "       [1.0000e+00, 7.8000e+01, 6.0840e+03],\n",
       "       [1.0000e+00, 1.4000e+02, 1.9600e+04],\n",
       "       [1.0000e+00, 7.0000e+01, 4.9000e+03],\n",
       "       [1.0000e+00, 1.5000e+02, 2.2500e+04],\n",
       "       [1.0000e+00, 1.5000e+02, 2.2500e+04],\n",
       "       [1.0000e+00, 8.7000e+01, 7.5690e+03],\n",
       "       [1.0000e+00, 7.6000e+01, 5.7760e+03],\n",
       "       [1.0000e+00, 7.0000e+01, 4.9000e+03],\n",
       "       [1.0000e+00, 1.9800e+02, 3.9204e+04],\n",
       "       [1.0000e+00, 1.7500e+02, 3.0625e+04]])"
      ]
     },
     "execution_count": 20,
     "metadata": {},
     "output_type": "execute_result"
    }
   ],
   "source": [
    "X_train_2deg"
   ]
  },
  {
   "cell_type": "markdown",
   "metadata": {},
   "source": [
    "### Fit the actual quadratic model and calculate the MSE"
   ]
  },
  {
   "cell_type": "markdown",
   "metadata": {},
   "source": [
    "**Then do the same for the cubic model**"
   ]
  },
  {
   "cell_type": "code",
   "execution_count": 21,
   "metadata": {
    "scrolled": true
   },
   "outputs": [
    {
     "data": {
      "text/html": [
       "<table class=\"simpletable\">\n",
       "<caption>OLS Regression Results</caption>\n",
       "<tr>\n",
       "  <th>Dep. Variable:</th>           <td>mpg</td>       <th>  R-squared:         </th> <td>   0.698</td>\n",
       "</tr>\n",
       "<tr>\n",
       "  <th>Model:</th>                   <td>OLS</td>       <th>  Adj. R-squared:    </th> <td>   0.694</td>\n",
       "</tr>\n",
       "<tr>\n",
       "  <th>Method:</th>             <td>Least Squares</td>  <th>  F-statistic:       </th> <td>   222.6</td>\n",
       "</tr>\n",
       "<tr>\n",
       "  <th>Date:</th>             <td>Tue, 10 Sep 2024</td> <th>  Prob (F-statistic):</th> <td>7.60e-51</td>\n",
       "</tr>\n",
       "<tr>\n",
       "  <th>Time:</th>                 <td>11:16:40</td>     <th>  Log-Likelihood:    </th> <td> -567.53</td>\n",
       "</tr>\n",
       "<tr>\n",
       "  <th>No. Observations:</th>      <td>   196</td>      <th>  AIC:               </th> <td>   1141.</td>\n",
       "</tr>\n",
       "<tr>\n",
       "  <th>Df Residuals:</th>          <td>   193</td>      <th>  BIC:               </th> <td>   1151.</td>\n",
       "</tr>\n",
       "<tr>\n",
       "  <th>Df Model:</th>              <td>     2</td>      <th>                     </th>     <td> </td>   \n",
       "</tr>\n",
       "<tr>\n",
       "  <th>Covariance Type:</th>      <td>nonrobust</td>    <th>                     </th>     <td> </td>   \n",
       "</tr>\n",
       "</table>\n",
       "<table class=\"simpletable\">\n",
       "<tr>\n",
       "    <td></td>       <th>coef</th>     <th>std err</th>      <th>t</th>      <th>P>|t|</th>  <th>[0.025</th>    <th>0.975]</th>  \n",
       "</tr>\n",
       "<tr>\n",
       "  <th>const</th> <td>   58.1407</td> <td>    2.524</td> <td>   23.032</td> <td> 0.000</td> <td>   53.162</td> <td>   63.120</td>\n",
       "</tr>\n",
       "<tr>\n",
       "  <th>x1</th>    <td>   -0.4861</td> <td>    0.043</td> <td>  -11.194</td> <td> 0.000</td> <td>   -0.572</td> <td>   -0.400</td>\n",
       "</tr>\n",
       "<tr>\n",
       "  <th>x2</th>    <td>    0.0013</td> <td>    0.000</td> <td>    7.701</td> <td> 0.000</td> <td>    0.001</td> <td>    0.002</td>\n",
       "</tr>\n",
       "</table>\n",
       "<table class=\"simpletable\">\n",
       "<tr>\n",
       "  <th>Omnibus:</th>       <td>17.593</td> <th>  Durbin-Watson:     </th> <td>   2.224</td>\n",
       "</tr>\n",
       "<tr>\n",
       "  <th>Prob(Omnibus):</th> <td> 0.000</td> <th>  Jarque-Bera (JB):  </th> <td>  35.470</td>\n",
       "</tr>\n",
       "<tr>\n",
       "  <th>Skew:</th>          <td> 0.417</td> <th>  Prob(JB):          </th> <td>1.99e-08</td>\n",
       "</tr>\n",
       "<tr>\n",
       "  <th>Kurtosis:</th>      <td> 4.910</td> <th>  Cond. No.          </th> <td>1.29e+05</td>\n",
       "</tr>\n",
       "</table><br/><br/>Notes:<br/>[1] Standard Errors assume that the covariance matrix of the errors is correctly specified.<br/>[2] The condition number is large, 1.29e+05. This might indicate that there are<br/>strong multicollinearity or other numerical problems."
      ],
      "text/latex": [
       "\\begin{center}\n",
       "\\begin{tabular}{lclc}\n",
       "\\toprule\n",
       "\\textbf{Dep. Variable:}    &       mpg        & \\textbf{  R-squared:         } &     0.698   \\\\\n",
       "\\textbf{Model:}            &       OLS        & \\textbf{  Adj. R-squared:    } &     0.694   \\\\\n",
       "\\textbf{Method:}           &  Least Squares   & \\textbf{  F-statistic:       } &     222.6   \\\\\n",
       "\\textbf{Date:}             & Tue, 10 Sep 2024 & \\textbf{  Prob (F-statistic):} &  7.60e-51   \\\\\n",
       "\\textbf{Time:}             &     11:16:40     & \\textbf{  Log-Likelihood:    } &   -567.53   \\\\\n",
       "\\textbf{No. Observations:} &         196      & \\textbf{  AIC:               } &     1141.   \\\\\n",
       "\\textbf{Df Residuals:}     &         193      & \\textbf{  BIC:               } &     1151.   \\\\\n",
       "\\textbf{Df Model:}         &           2      & \\textbf{                     } &             \\\\\n",
       "\\textbf{Covariance Type:}  &    nonrobust     & \\textbf{                     } &             \\\\\n",
       "\\bottomrule\n",
       "\\end{tabular}\n",
       "\\begin{tabular}{lcccccc}\n",
       "               & \\textbf{coef} & \\textbf{std err} & \\textbf{t} & \\textbf{P$> |$t$|$} & \\textbf{[0.025} & \\textbf{0.975]}  \\\\\n",
       "\\midrule\n",
       "\\textbf{const} &      58.1407  &        2.524     &    23.032  &         0.000        &       53.162    &       63.120     \\\\\n",
       "\\textbf{x1}    &      -0.4861  &        0.043     &   -11.194  &         0.000        &       -0.572    &       -0.400     \\\\\n",
       "\\textbf{x2}    &       0.0013  &        0.000     &     7.701  &         0.000        &        0.001    &        0.002     \\\\\n",
       "\\bottomrule\n",
       "\\end{tabular}\n",
       "\\begin{tabular}{lclc}\n",
       "\\textbf{Omnibus:}       & 17.593 & \\textbf{  Durbin-Watson:     } &    2.224  \\\\\n",
       "\\textbf{Prob(Omnibus):} &  0.000 & \\textbf{  Jarque-Bera (JB):  } &   35.470  \\\\\n",
       "\\textbf{Skew:}          &  0.417 & \\textbf{  Prob(JB):          } & 1.99e-08  \\\\\n",
       "\\textbf{Kurtosis:}      &  4.910 & \\textbf{  Cond. No.          } & 1.29e+05  \\\\\n",
       "\\bottomrule\n",
       "\\end{tabular}\n",
       "%\\caption{OLS Regression Results}\n",
       "\\end{center}\n",
       "\n",
       "Notes: \\newline\n",
       " [1] Standard Errors assume that the covariance matrix of the errors is correctly specified. \\newline\n",
       " [2] The condition number is large, 1.29e+05. This might indicate that there are \\newline\n",
       " strong multicollinearity or other numerical problems."
      ],
      "text/plain": [
       "<class 'statsmodels.iolib.summary.Summary'>\n",
       "\"\"\"\n",
       "                            OLS Regression Results                            \n",
       "==============================================================================\n",
       "Dep. Variable:                    mpg   R-squared:                       0.698\n",
       "Model:                            OLS   Adj. R-squared:                  0.694\n",
       "Method:                 Least Squares   F-statistic:                     222.6\n",
       "Date:                Tue, 10 Sep 2024   Prob (F-statistic):           7.60e-51\n",
       "Time:                        11:16:40   Log-Likelihood:                -567.53\n",
       "No. Observations:                 196   AIC:                             1141.\n",
       "Df Residuals:                     193   BIC:                             1151.\n",
       "Df Model:                           2                                         \n",
       "Covariance Type:            nonrobust                                         \n",
       "==============================================================================\n",
       "                 coef    std err          t      P>|t|      [0.025      0.975]\n",
       "------------------------------------------------------------------------------\n",
       "const         58.1407      2.524     23.032      0.000      53.162      63.120\n",
       "x1            -0.4861      0.043    -11.194      0.000      -0.572      -0.400\n",
       "x2             0.0013      0.000      7.701      0.000       0.001       0.002\n",
       "==============================================================================\n",
       "Omnibus:                       17.593   Durbin-Watson:                   2.224\n",
       "Prob(Omnibus):                  0.000   Jarque-Bera (JB):               35.470\n",
       "Skew:                           0.417   Prob(JB):                     1.99e-08\n",
       "Kurtosis:                       4.910   Cond. No.                     1.29e+05\n",
       "==============================================================================\n",
       "\n",
       "Notes:\n",
       "[1] Standard Errors assume that the covariance matrix of the errors is correctly specified.\n",
       "[2] The condition number is large, 1.29e+05. This might indicate that there are\n",
       "strong multicollinearity or other numerical problems.\n",
       "\"\"\""
      ]
     },
     "execution_count": 21,
     "metadata": {},
     "output_type": "execute_result"
    }
   ],
   "source": [
    "sm_quad = sm.OLS(y_train, X_train_2deg).fit()\n",
    "sm_quad.summary()"
   ]
  },
  {
   "cell_type": "code",
   "execution_count": 22,
   "metadata": {},
   "outputs": [
    {
     "name": "stdout",
     "output_type": "stream",
     "text": [
      "18.852745430127555\n"
     ]
    }
   ],
   "source": [
    "X_val_2deg = polynomial_features.fit_transform((val[\"horsepower\"]).to_numpy().reshape(-1,1))\n",
    "mse_quad = get_mse(sm_quad, X_val_2deg, y_val)\n",
    "print(mse_quad)"
   ]
  },
  {
   "cell_type": "markdown",
   "metadata": {},
   "source": [
    "### Do the same for the cubic model"
   ]
  },
  {
   "cell_type": "code",
   "execution_count": 23,
   "metadata": {},
   "outputs": [
    {
     "name": "stdout",
     "output_type": "stream",
     "text": [
      "19.075536759324212\n"
     ]
    }
   ],
   "source": [
    "poly3 = PolynomialFeatures(degree=3)\n",
    "\n",
    "X_train_3deg = poly3.fit_transform((train[\"horsepower\"]).to_numpy().reshape(-1,1))\n",
    "X_val_3deg = poly3.fit_transform((val[\"horsepower\"]).to_numpy().reshape(-1,1))\n",
    "\n",
    "sm_cube = sm.OLS(y_train, X_train_3deg).fit()\n",
    "\n",
    "mse_cube = get_mse(sm_cube, X_val_3deg, y_val)\n",
    "\n",
    "print(mse_cube)"
   ]
  },
  {
   "cell_type": "markdown",
   "metadata": {},
   "source": [
    "### formula api (smf.ols) method"
   ]
  },
  {
   "cell_type": "markdown",
   "metadata": {},
   "source": [
    "**You can also achieve the same with the formula api**  \n",
    "**Example with the cubic model**"
   ]
  },
  {
   "cell_type": "code",
   "execution_count": 24,
   "metadata": {},
   "outputs": [
    {
     "data": {
      "text/plain": [
       "19.075536759324212"
      ]
     },
     "execution_count": 24,
     "metadata": {},
     "output_type": "execute_result"
    }
   ],
   "source": [
    "lm_cube = smf.ols(\"mpg ~ 1+ horsepower + I(horsepower**2) + I(horsepower**3)\", train).fit()\n",
    "pred_val_cube =  lm_cube.get_prediction(val).summary_frame()[\"mean\"]\n",
    "mse_val_cube = sm.tools.eval_measures.mse(y_val, pred_val_cube)\n",
    "mse_val_cube"
   ]
  },
  {
   "cell_type": "markdown",
   "metadata": {},
   "source": [
    "As you can see we get the same result"
   ]
  },
  {
   "cell_type": "markdown",
   "metadata": {},
   "source": [
    "### TO DO\n",
    "- Set another seed and create a different split of your data - do you get different results? Why?"
   ]
  },
  {
   "cell_type": "code",
   "execution_count": 25,
   "metadata": {},
   "outputs": [
    {
     "name": "stdout",
     "output_type": "stream",
     "text": [
      "24.596948801393975\n",
      "20.14035992764117\n",
      "20.77892944825929\n"
     ]
    }
   ],
   "source": [
    "random.seed(22)\n",
    "\n",
    "train_idx2, val_idx2 = randomize_split(392, 196)\n",
    "\n",
    "train2 = auto.iloc[train_idx2, :]\n",
    "val2 = auto.iloc[val_idx2, :]\n",
    "true_val2 = val2[\"mpg\"]\n",
    "val2 = val2[\"horsepower\"]\n",
    "\n",
    "lm12 = smf.ols(\"mpg ~ 1+ horsepower\", train2).fit()\n",
    "mse_val2 = get_mse(lm12, val2, true_val2)\n",
    "print(mse_val2)\n",
    "\n",
    "lm_quad2 = smf.ols(\"mpg ~ 1+ horsepower + I(horsepower**2)\", train2).fit()\n",
    "mse_val_quad2 = get_mse(lm_quad2, val2, true_val2)\n",
    "print(mse_val_quad2)\n",
    "\n",
    "lm_cube2 = smf.ols(\"mpg ~ 1+ horsepower + I(horsepower**2) + I(horsepower**3)\", train2).fit()\n",
    "mse_val_cube2 = get_mse(lm_cube2, val2, true_val2)\n",
    "print(mse_val_cube2)"
   ]
  },
  {
   "cell_type": "markdown",
   "metadata": {},
   "source": [
    "Yes, we do get different results because we are using different data for the training and testing"
   ]
  },
  {
   "cell_type": "markdown",
   "metadata": {},
   "source": [
    "### TO DO\n",
    "- Which model would you choose based on the estimated MSE?"
   ]
  },
  {
   "cell_type": "markdown",
   "metadata": {},
   "source": [
    "I would choose the 2nd model (the quadratic one), because it has the lowest MSE, while still being a fairly simple model. "
   ]
  },
  {
   "cell_type": "markdown",
   "metadata": {},
   "source": [
    "### TO DO\n",
    "- If you instead train the models on the entire data and perform model selection via F-tests or AIC, would you choose differently?"
   ]
  },
  {
   "cell_type": "code",
   "execution_count": 26,
   "metadata": {},
   "outputs": [],
   "source": [
    "lm1_3 = smf.ols(\"mpg ~ 1+ horsepower\", auto).fit()\n",
    "lm_quad_3 = smf.ols(\"mpg ~ 1+ horsepower + I(horsepower**2)\", auto).fit()\n",
    "lm_cube_3 = smf.ols(\"mpg ~ 1+ horsepower + I(horsepower**2) + I(horsepower**3)\", auto).fit()"
   ]
  },
  {
   "cell_type": "code",
   "execution_count": 27,
   "metadata": {},
   "outputs": [
    {
     "name": "stdout",
     "output_type": "stream",
     "text": [
      "2361.3236578374017\n",
      "2272.353522359692\n",
      "2273.5312967115547\n"
     ]
    }
   ],
   "source": [
    "print(lm1_3.aic)\n",
    "print(lm_quad_3.aic)\n",
    "print(lm_cube_3.aic)"
   ]
  },
  {
   "cell_type": "markdown",
   "metadata": {},
   "source": [
    "Based on AIC only, I would choose the second model because the general rule of thumb is the lower AIC the better. However this metric is known to favoritize simpler models, and using only using AIC to choose may result in underfitting."
   ]
  },
  {
   "cell_type": "markdown",
   "metadata": {},
   "source": [
    "## Leave-one-out cross-validation\n",
    "\n",
    "### TO DO\n",
    "- Implement leave-one-out cross-validation and use it to estimate the MSE for the three regression models above."
   ]
  },
  {
   "cell_type": "markdown",
   "metadata": {},
   "source": [
    "**NOTE: Here I will use the class from sklearn, but you can try to implement it from scratch yourself as an extra challenge if you're feeling brave :)**"
   ]
  },
  {
   "cell_type": "code",
   "execution_count": 28,
   "metadata": {},
   "outputs": [],
   "source": [
    "from sklearn.model_selection import LeaveOneOut"
   ]
  },
  {
   "cell_type": "code",
   "execution_count": 29,
   "metadata": {},
   "outputs": [],
   "source": [
    "loocv = LeaveOneOut()"
   ]
  },
  {
   "cell_type": "markdown",
   "metadata": {},
   "source": [
    "### Function to format the polynomial formula for the formula api\n",
    "I am doing this because we will need it later on and we can use it from now to make the code a lot nicer"
   ]
  },
  {
   "cell_type": "code",
   "execution_count": 30,
   "metadata": {},
   "outputs": [],
   "source": [
    "def format_formula(d):\n",
    "    \n",
    "    f = \"mpg ~ 1 + horsepower\"\n",
    "    \n",
    "    if d == 1:\n",
    "        return f\n",
    "    else:\n",
    "        for i in range(2, d+1):\n",
    "            f += f\" + I(horsepower**{i})\"\n",
    "   \n",
    "    return f"
   ]
  },
  {
   "cell_type": "markdown",
   "metadata": {},
   "source": [
    "Example:"
   ]
  },
  {
   "cell_type": "code",
   "execution_count": 31,
   "metadata": {},
   "outputs": [
    {
     "data": {
      "text/plain": [
       "'mpg ~ 1 + horsepower + I(horsepower**2) + I(horsepower**3) + I(horsepower**4) + I(horsepower**5)'"
      ]
     },
     "execution_count": 31,
     "metadata": {},
     "output_type": "execute_result"
    }
   ],
   "source": [
    "format_formula(5)"
   ]
  },
  {
   "cell_type": "markdown",
   "metadata": {},
   "source": [
    "### Estimate MSE for the 3 models using LOOCV"
   ]
  },
  {
   "cell_type": "code",
   "execution_count": 32,
   "metadata": {},
   "outputs": [
    {
     "name": "stdout",
     "output_type": "stream",
     "text": [
      "24.231513517929244\n",
      "19.248213124489315\n",
      "19.334984064060897\n"
     ]
    }
   ],
   "source": [
    "metrics = [0] * 3\n",
    "\n",
    "for i, (train_idx, val_idx) in enumerate(loocv.split(auto)):\n",
    "    \n",
    "    models = []\n",
    "    \n",
    "    train_loocv = auto.iloc[train_idx]\n",
    "    val_loocv = auto.iloc[val_idx]\n",
    "    true_vals = val_loocv[\"mpg\"]\n",
    "    val_loocv = val_loocv[\"horsepower\"]\n",
    "    \n",
    "    for i in range(1,4):\n",
    "        formula = format_formula(i)\n",
    "        curr_lm = smf.ols(formula, train_loocv).fit()\n",
    "        models.append(curr_lm)\n",
    "    \n",
    "    for i in range(3):\n",
    "\n",
    "        curr_preds =  models[i].get_prediction(val_loocv).summary_frame()[\"mean\"]\n",
    "        metrics[i] += sm.tools.eval_measures.mse(true_vals, curr_preds)\n",
    "\n",
    "for i in range(3):\n",
    "    avg_mse = metrics[i] / (auto.shape[0])\n",
    "    print(avg_mse)"
   ]
  },
  {
   "cell_type": "markdown",
   "metadata": {},
   "source": [
    "## k-fold cross-validation\n",
    "\n",
    "### TO DO\n",
    "- Estimate the MSE now from k-fold cross-validation that you implement yourself. If you set k=10, then you get Figure 5.6 from the book, but you are welcome to choose another k. Make sure that you properly randomise observations into the k folds! One way is to first make a random permutation of row indices and then chop the re-ordered dataset into k (roughly) even parts."
   ]
  },
  {
   "cell_type": "markdown",
   "metadata": {},
   "source": [
    "The LOOCV estimate of the MSE can also be computed automatially with sklearn. In fact, sklearn provides a lot of functionality for cross-validation. However, our objective right now is to understand how the algorithms work, so that you learn to reflect on them and use the automatic functionality appropriately."
   ]
  },
  {
   "cell_type": "markdown",
   "metadata": {},
   "source": [
    "**NOTE: Here I have solved the exercise using the KFold class from sklearn. If you want, you can implement KFold yourself as an extra challenge :)**"
   ]
  },
  {
   "cell_type": "code",
   "execution_count": 33,
   "metadata": {},
   "outputs": [],
   "source": [
    "from sklearn.model_selection import KFold"
   ]
  },
  {
   "cell_type": "code",
   "execution_count": 34,
   "metadata": {},
   "outputs": [],
   "source": [
    "N_SPLITS = 10\n",
    "kf = KFold(n_splits = N_SPLITS)"
   ]
  },
  {
   "cell_type": "code",
   "execution_count": 35,
   "metadata": {},
   "outputs": [
    {
     "name": "stdout",
     "output_type": "stream",
     "text": [
      "24.13816500046387\n",
      "19.208462214531252\n",
      "19.321071228938443\n"
     ]
    }
   ],
   "source": [
    "metrics = [0] * 3\n",
    "\n",
    "auto_sh = auto.sample(frac=1).reset_index(drop=True)\n",
    "\n",
    "for i, (train_idx, val_idx) in enumerate(kf.split(auto_sh)):\n",
    "    \n",
    "    models = []\n",
    "    \n",
    "    train_loocv = auto_sh.iloc[train_idx]\n",
    "    val_loocv = auto_sh.iloc[val_idx]\n",
    "    true_vals = val_loocv[\"mpg\"]\n",
    "    val_loocv = val_loocv[\"horsepower\"]\n",
    "    \n",
    "    for i in range(1,4):\n",
    "        formula = format_formula(i)\n",
    "        curr_lm = smf.ols(formula, train_loocv).fit()\n",
    "        models.append(curr_lm)\n",
    "    \n",
    "    for i in range(3):\n",
    "\n",
    "        curr_preds =  models[i].get_prediction(val_loocv).summary_frame()[\"mean\"]\n",
    "        metrics[i] += sm.tools.eval_measures.mse(true_vals, curr_preds)\n",
    "        \n",
    "for i in range(3):\n",
    "    avg_mse = metrics[i] / N_SPLITS\n",
    "    print(avg_mse)"
   ]
  },
  {
   "cell_type": "markdown",
   "metadata": {},
   "source": [
    "### TO DO\n",
    "- Extend your code with a for-loop that iterates over increasing orders of the polynomial (1 to 10). Note that is possible to autogenerate a design matrix with all the terms of the polynomial with functions such as `sklearn.preprocessing.PolynomialFeatures` (It should also work for several features; a degree 2 polynomial in features x1 and x2 would need  $1+x_1+x_2+x_1x_2+x_1^2+x_2^2$, i.e. also the term $x_1x_2$.)"
   ]
  },
  {
   "cell_type": "code",
   "execution_count": 36,
   "metadata": {},
   "outputs": [
    {
     "name": "stdout",
     "output_type": "stream",
     "text": [
      "Avg MSE for poly d=1: 24.13816500046387\n",
      "Avg MSE for poly d=2: 19.208462214531252\n",
      "Avg MSE for poly d=3: 19.321071228938443\n",
      "Avg MSE for poly d=4: 19.40890138329201\n",
      "Avg MSE for poly d=5: 19.051356330681738\n",
      "Avg MSE for poly d=6: 19.084930326160457\n",
      "Avg MSE for poly d=7: 19.09371772140657\n",
      "Avg MSE for poly d=8: 23.15076714068223\n",
      "Avg MSE for poly d=9: 23.228094568327943\n",
      "Avg MSE for poly d=10: 51.32054181793635\n"
     ]
    }
   ],
   "source": [
    "metrics = [0] * 10;\n",
    "\n",
    "for i, (train_idx, val_idx) in enumerate(kf.split(auto_sh)):\n",
    "    \n",
    "    models = []\n",
    "    \n",
    "    train_loocv = auto_sh.iloc[train_idx]\n",
    "    val_loocv = auto_sh.iloc[val_idx]\n",
    "    true_vals = val_loocv[\"mpg\"]\n",
    "    val_loocv = val_loocv[\"horsepower\"]\n",
    "    \n",
    "    for i in range(1, 11):\n",
    "        \n",
    "        formula = format_formula(i)\n",
    "        curr_lm = smf.ols(formula, train_loocv).fit()\n",
    "        models.append(curr_lm)\n",
    "    \n",
    "    for i in range(10):\n",
    "\n",
    "        curr_preds =  models[i].get_prediction(val_loocv).summary_frame()[\"mean\"]\n",
    "        metrics[i] += sm.tools.eval_measures.mse(true_vals, curr_preds)\n",
    "\n",
    "mses = []\n",
    "for i in range(10):\n",
    "    avg_mse = metrics[i] / 10\n",
    "    mses.append(avg_mse)\n",
    "    print(f\"Avg MSE for poly d={i+1}: {avg_mse}\")"
   ]
  },
  {
   "cell_type": "markdown",
   "metadata": {},
   "source": [
    "## TO DO\n",
    "- Plot the resulting MSE curve against the degree of the polynomial (this is the complexity or the flexibility).   \n",
    "- Do you get the same conclusion as before regarding your choice of model?   \n",
    "- Was it faster than LOOCV?"
   ]
  },
  {
   "cell_type": "code",
   "execution_count": 37,
   "metadata": {},
   "outputs": [
    {
     "data": {
      "image/png": "[encoded data removed]",
      "text/plain": [
       "<Figure size 640x480 with 1 Axes>"
      ]
     },
     "metadata": {},
     "output_type": "display_data"
    }
   ],
   "source": [
    "plt.plot(list(range(1,11)), mses)\n",
    "plt.title(\"Average MSE for polynomial regression of different degrees\")\n",
    "plt.xlabel(\"Degree\")\n",
    "plt.ylabel(\"Avg. MSE\")\n",
    "plt.xticks(list(range(1,11)));"
   ]
  },
  {
   "cell_type": "markdown",
   "metadata": {},
   "source": [
    "Based on the above plot, we would still choose the 2nd degree polynomial.\n",
    "We can also notice that the KFold with 10 splits executed a lot faster than the LOOCV (Which makes sense, because LOOCV is esentially KFold with K=n, where n is the number of samples in your dataset. These numbers of folds correspond with how many times you execute the loop, so the more folds you have the slower the calculation will be)."
   ]
  },
  {
   "cell_type": "markdown",
   "metadata": {},
   "source": [
    "## Shrinkage/Regularization\n",
    "\n",
    "Now try the two shrinkage methods we saw on Thursday, ridge regression and lasso. To make things a bit more exciting, include in your models all variables available in the dataset, and perhaps a few polynomial terms for `horsepower` now that you know they are relevant. The `name` variable is evidently an identifyer and should not be used as a predictor in the model.\n",
    "\n",
    "The Lasso estimates for coefficients $\\beta$ in a linear regression model are found by minimising $RSS + \\lambda\\sum_{j=1}^p|\\beta_j|$ rather than RSS. \n",
    "\n",
    "In Ridge regression, we estimate $\\beta$ by minimising $RSS + \\lambda\\sum_{j=1}^p\\beta_j^2$ rather than RSS. \n",
    "\n",
    "In both cases, we need to set the regularation parameter $\\lambda$. **The parameter $\\lambda$ is called `alpha` in the Python implementations**\n",
    "\n",
    "\n",
    "The relevant method in the statsmodel library is `fit_regularized`, which you use in place of `fit` after instantiating an ols model. If `L1_wt=1`, the fit is the lasso (L1-penalty). Ridge regression (L2-penalty) is obtained by setting `L1_wt=0`.  The reason we need to set parameter `L1_wt` is that the method actually implements the more general 'elastic net' penalty, which is a convex combination of the Lasso penalty and the ridge regression penalty with weight `L1_wt`. The fitting method returns a `RegressionResults` object, from which you can extract `params` and `fittedvalues`, and it has a `predict` method just like the usual linear regression output from ols.\n",
    "\n",
    "The sklearn libary has methods `Ridge` and `Lasso`. \n",
    "\n",
    "**Set aside a test set of about 25% of the data that you can use at the end to estimate the MSE of your final model. Use the remaining data to train the regularised regression models.**"
   ]
  },
  {
   "cell_type": "markdown",
   "metadata": {},
   "source": [
    "### Ridge regression\n",
    "\n",
    "### TO DO\n",
    "- First, carry out a ridge regression where the regulation parameter $\\lambda$ is fixed at 10. "
   ]
  },
  {
   "cell_type": "code",
   "execution_count": 34,
   "metadata": {},
   "outputs": [],
   "source": [
    "from sklearn.linear_model import Ridge"
   ]
  },
  {
   "cell_type": "code",
   "execution_count": 35,
   "metadata": {},
   "outputs": [
    {
     "name": "stdout",
     "output_type": "stream",
     "text": [
      "(294, 7)\n",
      "(294,)\n",
      "(98, 7)\n",
      "(98,)\n"
     ]
    }
   ],
   "source": [
    "n_train = int(0.75 * (auto.shape[0]))\n",
    "X_train = (auto.iloc[:n_train, 1:8]).to_numpy()\n",
    "y_train = (auto.iloc[:n_train, 0]).to_numpy()\n",
    "X_test = (auto.iloc[n_train:, 1:8]).to_numpy()\n",
    "y_test = (auto.iloc[n_train:, 0]).to_numpy()\n",
    "print(X_train.shape)\n",
    "print(y_train.shape)\n",
    "print(X_test.shape)\n",
    "print(y_test.shape)"
   ]
  },
  {
   "cell_type": "code",
   "execution_count": 36,
   "metadata": {},
   "outputs": [
    {
     "data": {
      "text/html": [
       "<style>#sk-container-id-1 {\n",
       "  /* Definition of color scheme common for light and dark mode */\n",
       "  --sklearn-color-text: black;\n",
       "  --sklearn-color-line: gray;\n",
       "  /* Definition of color scheme for unfitted estimators */\n",
       "  --sklearn-color-unfitted-level-0: #fff5e6;\n",
       "  --sklearn-color-unfitted-level-1: #f6e4d2;\n",
       "  --sklearn-color-unfitted-level-2: #ffe0b3;\n",
       "  --sklearn-color-unfitted-level-3: chocolate;\n",
       "  /* Definition of color scheme for fitted estimators */\n",
       "  --sklearn-color-fitted-level-0: #f0f8ff;\n",
       "  --sklearn-color-fitted-level-1: #d4ebff;\n",
       "  --sklearn-color-fitted-level-2: #b3dbfd;\n",
       "  --sklearn-color-fitted-level-3: cornflowerblue;\n",
       "\n",
       "  /* Specific color for light theme */\n",
       "  --sklearn-color-text-on-default-background: var(--sg-text-color, var(--theme-code-foreground, var(--jp-content-font-color1, black)));\n",
       "  --sklearn-color-background: var(--sg-background-color, var(--theme-background, var(--jp-layout-color0, white)));\n",
       "  --sklearn-color-border-box: var(--sg-text-color, var(--theme-code-foreground, var(--jp-content-font-color1, black)));\n",
       "  --sklearn-color-icon: #696969;\n",
       "\n",
       "  @media (prefers-color-scheme: dark) {\n",
       "    /* Redefinition of color scheme for dark theme */\n",
       "    --sklearn-color-text-on-default-background: var(--sg-text-color, var(--theme-code-foreground, var(--jp-content-font-color1, white)));\n",
       "    --sklearn-color-background: var(--sg-background-color, var(--theme-background, var(--jp-layout-color0, #111)));\n",
       "    --sklearn-color-border-box: var(--sg-text-color, var(--theme-code-foreground, var(--jp-content-font-color1, white)));\n",
       "    --sklearn-color-icon: #878787;\n",
       "  }\n",
       "}\n",
       "\n",
       "#sk-container-id-1 {\n",
       "  color: var(--sklearn-color-text);\n",
       "}\n",
       "\n",
       "#sk-container-id-1 pre {\n",
       "  padding: 0;\n",
       "}\n",
       "\n",
       "#sk-container-id-1 input.sk-hidden--visually {\n",
       "  border: 0;\n",
       "  clip: rect(1px 1px 1px 1px);\n",
       "  clip: rect(1px, 1px, 1px, 1px);\n",
       "  height: 1px;\n",
       "  margin: -1px;\n",
       "  overflow: hidden;\n",
       "  padding: 0;\n",
       "  position: absolute;\n",
       "  width: 1px;\n",
       "}\n",
       "\n",
       "#sk-container-id-1 div.sk-dashed-wrapped {\n",
       "  border: 1px dashed var(--sklearn-color-line);\n",
       "  margin: 0 0.4em 0.5em 0.4em;\n",
       "  box-sizing: border-box;\n",
       "  padding-bottom: 0.4em;\n",
       "  background-color: var(--sklearn-color-background);\n",
       "}\n",
       "\n",
       "#sk-container-id-1 div.sk-container {\n",
       "  /* jupyter's `normalize.less` sets `[hidden] { display: none; }`\n",
       "     but bootstrap.min.css set `[hidden] { display: none !important; }`\n",
       "     so we also need the `!important` here to be able to override the\n",
       "     default hidden behavior on the sphinx rendered scikit-learn.org.\n",
       "     See: https://github.com/scikit-learn/scikit-learn/issues/21755 */\n",
       "  display: inline-block !important;\n",
       "  position: relative;\n",
       "}\n",
       "\n",
       "#sk-container-id-1 div.sk-text-repr-fallback {\n",
       "  display: none;\n",
       "}\n",
       "\n",
       "div.sk-parallel-item,\n",
       "div.sk-serial,\n",
       "div.sk-item {\n",
       "  /* draw centered vertical line to link estimators */\n",
       "  background-image: linear-gradient(var(--sklearn-color-text-on-default-background), var(--sklearn-color-text-on-default-background));\n",
       "  background-size: 2px 100%;\n",
       "  background-repeat: no-repeat;\n",
       "  background-position: center center;\n",
       "}\n",
       "\n",
       "/* Parallel-specific style estimator block */\n",
       "\n",
       "#sk-container-id-1 div.sk-parallel-item::after {\n",
       "  content: \"\";\n",
       "  width: 100%;\n",
       "  border-bottom: 2px solid var(--sklearn-color-text-on-default-background);\n",
       "  flex-grow: 1;\n",
       "}\n",
       "\n",
       "#sk-container-id-1 div.sk-parallel {\n",
       "  display: flex;\n",
       "  align-items: stretch;\n",
       "  justify-content: center;\n",
       "  background-color: var(--sklearn-color-background);\n",
       "  position: relative;\n",
       "}\n",
       "\n",
       "#sk-container-id-1 div.sk-parallel-item {\n",
       "  display: flex;\n",
       "  flex-direction: column;\n",
       "}\n",
       "\n",
       "#sk-container-id-1 div.sk-parallel-item:first-child::after {\n",
       "  align-self: flex-end;\n",
       "  width: 50%;\n",
       "}\n",
       "\n",
       "#sk-container-id-1 div.sk-parallel-item:last-child::after {\n",
       "  align-self: flex-start;\n",
       "  width: 50%;\n",
       "}\n",
       "\n",
       "#sk-container-id-1 div.sk-parallel-item:only-child::after {\n",
       "  width: 0;\n",
       "}\n",
       "\n",
       "/* Serial-specific style estimator block */\n",
       "\n",
       "#sk-container-id-1 div.sk-serial {\n",
       "  display: flex;\n",
       "  flex-direction: column;\n",
       "  align-items: center;\n",
       "  background-color: var(--sklearn-color-background);\n",
       "  padding-right: 1em;\n",
       "  padding-left: 1em;\n",
       "}\n",
       "\n",
       "\n",
       "/* Toggleable style: style used for estimator/Pipeline/ColumnTransformer box that is\n",
       "clickable and can be expanded/collapsed.\n",
       "- Pipeline and ColumnTransformer use this feature and define the default style\n",
       "- Estimators will overwrite some part of the style using the `sk-estimator` class\n",
       "*/\n",
       "\n",
       "/* Pipeline and ColumnTransformer style (default) */\n",
       "\n",
       "#sk-container-id-1 div.sk-toggleable {\n",
       "  /* Default theme specific background. It is overwritten whether we have a\n",
       "  specific estimator or a Pipeline/ColumnTransformer */\n",
       "  background-color: var(--sklearn-color-background);\n",
       "}\n",
       "\n",
       "/* Toggleable label */\n",
       "#sk-container-id-1 label.sk-toggleable__label {\n",
       "  cursor: pointer;\n",
       "  display: block;\n",
       "  width: 100%;\n",
       "  margin-bottom: 0;\n",
       "  padding: 0.5em;\n",
       "  box-sizing: border-box;\n",
       "  text-align: center;\n",
       "}\n",
       "\n",
       "#sk-container-id-1 label.sk-toggleable__label-arrow:before {\n",
       "  /* Arrow on the left of the label */\n",
       "  content: \"▸\";\n",
       "  float: left;\n",
       "  margin-right: 0.25em;\n",
       "  color: var(--sklearn-color-icon);\n",
       "}\n",
       "\n",
       "#sk-container-id-1 label.sk-toggleable__label-arrow:hover:before {\n",
       "  color: var(--sklearn-color-text);\n",
       "}\n",
       "\n",
       "/* Toggleable content - dropdown */\n",
       "\n",
       "#sk-container-id-1 div.sk-toggleable__content {\n",
       "  max-height: 0;\n",
       "  max-width: 0;\n",
       "  overflow: hidden;\n",
       "  text-align: left;\n",
       "  /* unfitted */\n",
       "  background-color: var(--sklearn-color-unfitted-level-0);\n",
       "}\n",
       "\n",
       "#sk-container-id-1 div.sk-toggleable__content.fitted {\n",
       "  /* fitted */\n",
       "  background-color: var(--sklearn-color-fitted-level-0);\n",
       "}\n",
       "\n",
       "#sk-container-id-1 div.sk-toggleable__content pre {\n",
       "  margin: 0.2em;\n",
       "  border-radius: 0.25em;\n",
       "  color: var(--sklearn-color-text);\n",
       "  /* unfitted */\n",
       "  background-color: var(--sklearn-color-unfitted-level-0);\n",
       "}\n",
       "\n",
       "#sk-container-id-1 div.sk-toggleable__content.fitted pre {\n",
       "  /* unfitted */\n",
       "  background-color: var(--sklearn-color-fitted-level-0);\n",
       "}\n",
       "\n",
       "#sk-container-id-1 input.sk-toggleable__control:checked~div.sk-toggleable__content {\n",
       "  /* Expand drop-down */\n",
       "  max-height: 200px;\n",
       "  max-width: 100%;\n",
       "  overflow: auto;\n",
       "}\n",
       "\n",
       "#sk-container-id-1 input.sk-toggleable__control:checked~label.sk-toggleable__label-arrow:before {\n",
       "  content: \"▾\";\n",
       "}\n",
       "\n",
       "/* Pipeline/ColumnTransformer-specific style */\n",
       "\n",
       "#sk-container-id-1 div.sk-label input.sk-toggleable__control:checked~label.sk-toggleable__label {\n",
       "  color: var(--sklearn-color-text);\n",
       "  background-color: var(--sklearn-color-unfitted-level-2);\n",
       "}\n",
       "\n",
       "#sk-container-id-1 div.sk-label.fitted input.sk-toggleable__control:checked~label.sk-toggleable__label {\n",
       "  background-color: var(--sklearn-color-fitted-level-2);\n",
       "}\n",
       "\n",
       "/* Estimator-specific style */\n",
       "\n",
       "/* Colorize estimator box */\n",
       "#sk-container-id-1 div.sk-estimator input.sk-toggleable__control:checked~label.sk-toggleable__label {\n",
       "  /* unfitted */\n",
       "  background-color: var(--sklearn-color-unfitted-level-2);\n",
       "}\n",
       "\n",
       "#sk-container-id-1 div.sk-estimator.fitted input.sk-toggleable__control:checked~label.sk-toggleable__label {\n",
       "  /* fitted */\n",
       "  background-color: var(--sklearn-color-fitted-level-2);\n",
       "}\n",
       "\n",
       "#sk-container-id-1 div.sk-label label.sk-toggleable__label,\n",
       "#sk-container-id-1 div.sk-label label {\n",
       "  /* The background is the default theme color */\n",
       "  color: var(--sklearn-color-text-on-default-background);\n",
       "}\n",
       "\n",
       "/* On hover, darken the color of the background */\n",
       "#sk-container-id-1 div.sk-label:hover label.sk-toggleable__label {\n",
       "  color: var(--sklearn-color-text);\n",
       "  background-color: var(--sklearn-color-unfitted-level-2);\n",
       "}\n",
       "\n",
       "/* Label box, darken color on hover, fitted */\n",
       "#sk-container-id-1 div.sk-label.fitted:hover label.sk-toggleable__label.fitted {\n",
       "  color: var(--sklearn-color-text);\n",
       "  background-color: var(--sklearn-color-fitted-level-2);\n",
       "}\n",
       "\n",
       "/* Estimator label */\n",
       "\n",
       "#sk-container-id-1 div.sk-label label {\n",
       "  font-family: monospace;\n",
       "  font-weight: bold;\n",
       "  display: inline-block;\n",
       "  line-height: 1.2em;\n",
       "}\n",
       "\n",
       "#sk-container-id-1 div.sk-label-container {\n",
       "  text-align: center;\n",
       "}\n",
       "\n",
       "/* Estimator-specific */\n",
       "#sk-container-id-1 div.sk-estimator {\n",
       "  font-family: monospace;\n",
       "  border: 1px dotted var(--sklearn-color-border-box);\n",
       "  border-radius: 0.25em;\n",
       "  box-sizing: border-box;\n",
       "  margin-bottom: 0.5em;\n",
       "  /* unfitted */\n",
       "  background-color: var(--sklearn-color-unfitted-level-0);\n",
       "}\n",
       "\n",
       "#sk-container-id-1 div.sk-estimator.fitted {\n",
       "  /* fitted */\n",
       "  background-color: var(--sklearn-color-fitted-level-0);\n",
       "}\n",
       "\n",
       "/* on hover */\n",
       "#sk-container-id-1 div.sk-estimator:hover {\n",
       "  /* unfitted */\n",
       "  background-color: var(--sklearn-color-unfitted-level-2);\n",
       "}\n",
       "\n",
       "#sk-container-id-1 div.sk-estimator.fitted:hover {\n",
       "  /* fitted */\n",
       "  background-color: var(--sklearn-color-fitted-level-2);\n",
       "}\n",
       "\n",
       "/* Specification for estimator info (e.g. \"i\" and \"?\") */\n",
       "\n",
       "/* Common style for \"i\" and \"?\" */\n",
       "\n",
       ".sk-estimator-doc-link,\n",
       "a:link.sk-estimator-doc-link,\n",
       "a:visited.sk-estimator-doc-link {\n",
       "  float: right;\n",
       "  font-size: smaller;\n",
       "  line-height: 1em;\n",
       "  font-family: monospace;\n",
       "  background-color: var(--sklearn-color-background);\n",
       "  border-radius: 1em;\n",
       "  height: 1em;\n",
       "  width: 1em;\n",
       "  text-decoration: none !important;\n",
       "  margin-left: 1ex;\n",
       "  /* unfitted */\n",
       "  border: var(--sklearn-color-unfitted-level-1) 1pt solid;\n",
       "  color: var(--sklearn-color-unfitted-level-1);\n",
       "}\n",
       "\n",
       ".sk-estimator-doc-link.fitted,\n",
       "a:link.sk-estimator-doc-link.fitted,\n",
       "a:visited.sk-estimator-doc-link.fitted {\n",
       "  /* fitted */\n",
       "  border: var(--sklearn-color-fitted-level-1) 1pt solid;\n",
       "  color: var(--sklearn-color-fitted-level-1);\n",
       "}\n",
       "\n",
       "/* On hover */\n",
       "div.sk-estimator:hover .sk-estimator-doc-link:hover,\n",
       ".sk-estimator-doc-link:hover,\n",
       "div.sk-label-container:hover .sk-estimator-doc-link:hover,\n",
       ".sk-estimator-doc-link:hover {\n",
       "  /* unfitted */\n",
       "  background-color: var(--sklearn-color-unfitted-level-3);\n",
       "  color: var(--sklearn-color-background);\n",
       "  text-decoration: none;\n",
       "}\n",
       "\n",
       "div.sk-estimator.fitted:hover .sk-estimator-doc-link.fitted:hover,\n",
       ".sk-estimator-doc-link.fitted:hover,\n",
       "div.sk-label-container:hover .sk-estimator-doc-link.fitted:hover,\n",
       ".sk-estimator-doc-link.fitted:hover {\n",
       "  /* fitted */\n",
       "  background-color: var(--sklearn-color-fitted-level-3);\n",
       "  color: var(--sklearn-color-background);\n",
       "  text-decoration: none;\n",
       "}\n",
       "\n",
       "/* Span, style for the box shown on hovering the info icon */\n",
       ".sk-estimator-doc-link span {\n",
       "  display: none;\n",
       "  z-index: 9999;\n",
       "  position: relative;\n",
       "  font-weight: normal;\n",
       "  right: .2ex;\n",
       "  padding: .5ex;\n",
       "  margin: .5ex;\n",
       "  width: min-content;\n",
       "  min-width: 20ex;\n",
       "  max-width: 50ex;\n",
       "  color: var(--sklearn-color-text);\n",
       "  box-shadow: 2pt 2pt 4pt #999;\n",
       "  /* unfitted */\n",
       "  background: var(--sklearn-color-unfitted-level-0);\n",
       "  border: .5pt solid var(--sklearn-color-unfitted-level-3);\n",
       "}\n",
       "\n",
       ".sk-estimator-doc-link.fitted span {\n",
       "  /* fitted */\n",
       "  background: var(--sklearn-color-fitted-level-0);\n",
       "  border: var(--sklearn-color-fitted-level-3);\n",
       "}\n",
       "\n",
       ".sk-estimator-doc-link:hover span {\n",
       "  display: block;\n",
       "}\n",
       "\n",
       "/* \"?\"-specific style due to the `<a>` HTML tag */\n",
       "\n",
       "#sk-container-id-1 a.estimator_doc_link {\n",
       "  float: right;\n",
       "  font-size: 1rem;\n",
       "  line-height: 1em;\n",
       "  font-family: monospace;\n",
       "  background-color: var(--sklearn-color-background);\n",
       "  border-radius: 1rem;\n",
       "  height: 1rem;\n",
       "  width: 1rem;\n",
       "  text-decoration: none;\n",
       "  /* unfitted */\n",
       "  color: var(--sklearn-color-unfitted-level-1);\n",
       "  border: var(--sklearn-color-unfitted-level-1) 1pt solid;\n",
       "}\n",
       "\n",
       "#sk-container-id-1 a.estimator_doc_link.fitted {\n",
       "  /* fitted */\n",
       "  border: var(--sklearn-color-fitted-level-1) 1pt solid;\n",
       "  color: var(--sklearn-color-fitted-level-1);\n",
       "}\n",
       "\n",
       "/* On hover */\n",
       "#sk-container-id-1 a.estimator_doc_link:hover {\n",
       "  /* unfitted */\n",
       "  background-color: var(--sklearn-color-unfitted-level-3);\n",
       "  color: var(--sklearn-color-background);\n",
       "  text-decoration: none;\n",
       "}\n",
       "\n",
       "#sk-container-id-1 a.estimator_doc_link.fitted:hover {\n",
       "  /* fitted */\n",
       "  background-color: var(--sklearn-color-fitted-level-3);\n",
       "}\n",
       "</style><div id=\"sk-container-id-1\" class=\"sk-top-container\"><div class=\"sk-text-repr-fallback\"><pre>Ridge(alpha=10)</pre><b>In a Jupyter environment, please rerun this cell to show the HTML representation or trust the notebook. <br />On GitHub, the HTML representation is unable to render, please try loading this page with nbviewer.org.</b></div><div class=\"sk-container\" hidden><div class=\"sk-item\"><div class=\"sk-estimator fitted sk-toggleable\"><input class=\"sk-toggleable__control sk-hidden--visually\" id=\"sk-estimator-id-1\" type=\"checkbox\" checked><label for=\"sk-estimator-id-1\" class=\"sk-toggleable__label fitted sk-toggleable__label-arrow fitted\">&nbsp;&nbsp;Ridge<a class=\"sk-estimator-doc-link fitted\" rel=\"noreferrer\" target=\"_blank\" href=\"https://scikit-learn.org/1.5/modules/generated/sklearn.linear_model.Ridge.html\">?<span>Documentation for Ridge</span></a><span class=\"sk-estimator-doc-link fitted\">i<span>Fitted</span></span></label><div class=\"sk-toggleable__content fitted\"><pre>Ridge(alpha=10)</pre></div> </div></div></div></div>"
      ],
      "text/plain": [
       "Ridge(alpha=10)"
      ]
     },
     "execution_count": 36,
     "metadata": {},
     "output_type": "execute_result"
    }
   ],
   "source": [
    "ridge_reg = Ridge(alpha=10)\n",
    "ridge_reg.fit(X_train, y_train)"
   ]
  },
  {
   "cell_type": "code",
   "execution_count": 37,
   "metadata": {},
   "outputs": [
    {
     "name": "stdout",
     "output_type": "stream",
     "text": [
      "35.86250991322604\n"
     ]
    }
   ],
   "source": [
    "preds_ridge = ridge_reg.predict(X_test)\n",
    "mse_ridge = sm.tools.eval_measures.mse(y_test, preds_ridge)\n",
    "print(mse_ridge)"
   ]
  },
  {
   "cell_type": "markdown",
   "metadata": {},
   "source": [
    "In fact, $\\lambda = 10$ is a rather arbitrary suggestion. We need to decide on a suitable value for the hyperparameter $\\lambda$. This we can do using a dedicated validation set, or we could do it by cross-validation. We do the latter."
   ]
  },
  {
   "cell_type": "markdown",
   "metadata": {},
   "source": [
    "### TO DO\n",
    "- Take a suitable range of $\\lambda \\in [0, \\infty)$, for instance you can take a sequence $10^i, i=-2, \\ldots, 5$. Using 5-fold cross-validation to estimate the MSE (call it `MSE_lambda`) for each $\\lambda$, make a plot of how MSE changes with $\\lambda$. Based on this plot, how would you choose $\\lambda$? "
   ]
  },
  {
   "cell_type": "code",
   "execution_count": 40,
   "metadata": {},
   "outputs": [
    {
     "name": "stdout",
     "output_type": "stream",
     "text": [
      "Avg MSE (val data) for ridge regression with lambda=-2: 8.253391197794063\n",
      "Avg MSE (val data) for ridge regression with lambda=-1: 8.253161868693871\n",
      "Avg MSE (val data) for ridge regression with lambda=0: 8.250969096054973\n",
      "Avg MSE (val data) for ridge regression with lambda=1: 8.23674448389388\n",
      "Avg MSE (val data) for ridge regression with lambda=2: 8.244015096355735\n",
      "Avg MSE (val data) for ridge regression with lambda=3: 8.50045245146602\n",
      "Avg MSE (val data) for ridge regression with lambda=4: 9.49629757132169\n",
      "Avg MSE (val data) for ridge regression with lambda=5: 9.773769993769728\n"
     ]
    }
   ],
   "source": [
    "train_data = auto_sh.iloc[:n_train]\n",
    "\n",
    "kf5 = KFold(n_splits=5)\n",
    "metrics = [0] * 8;\n",
    "\n",
    "for i, (train_idx, val_idx) in enumerate(kf5.split(train_data)):\n",
    "    \n",
    "    models = []\n",
    "    \n",
    "    train_loocv = train_data.iloc[train_idx]\n",
    "    y_train_loocv = train_loocv.iloc[:,0]\n",
    "    train_loocv = train_loocv.iloc[:,1:8]\n",
    "    val_loocv = train_data.iloc[val_idx]\n",
    "    true_vals = val_loocv.iloc[:, 0]\n",
    "    val_loocv = val_loocv.iloc[:, 1:8]\n",
    "    \n",
    "    for i in range(-2, 6):\n",
    "        \n",
    "        curr_lambda = 10**i\n",
    "        curr_ridge = Ridge(alpha = curr_lambda)\n",
    "        curr_ridge.fit(train_loocv, y_train_loocv)\n",
    "        models.append(curr_ridge)\n",
    "    \n",
    "    for i in range(8):\n",
    "\n",
    "        curr_preds =  models[i].predict(val_loocv)\n",
    "        metrics[i] += sm.tools.eval_measures.mse(true_vals, curr_preds)\n",
    "\n",
    "mses = []\n",
    "for i in range(8):\n",
    "    avg_mse = metrics[i] / 5\n",
    "    mses.append(avg_mse)\n",
    "    print(f\"Avg MSE (val data) for ridge regression with lambda={i-2}: {avg_mse}\")"
   ]
  },
  {
   "cell_type": "markdown",
   "metadata": {},
   "source": [
    "### TO DO\n",
    "- Having chosen a $\\lambda$, would it be appropriate to report the corresponding `MSE_lambda` as the test error for the ridge regression?\n",
    "- Compute the test MSE using the dedicated test set and compare to `MSE_lambda`.  \n",
    "- In fact, once we have chosen the regularisation parameter $\\lambda$, we should preferably make use of *all of the data* to (re-)train the model, and then report the associated test MSE from the test data. Do this, and inspect the model estimates."
   ]
  },
  {
   "cell_type": "code",
   "execution_count": 41,
   "metadata": {},
   "outputs": [
    {
     "name": "stdout",
     "output_type": "stream",
     "text": [
      "35.51363598342477\n"
     ]
    }
   ],
   "source": [
    "ridge1 = Ridge(alpha=1)\n",
    "ridge1.fit(X_train, y_train)\n",
    "\n",
    "preds_ridge = ridge1.predict(X_test)\n",
    "mse_ridge = sm.tools.eval_measures.mse(y_test, preds_ridge)\n",
    "print(mse_ridge)"
   ]
  },
  {
   "cell_type": "markdown",
   "metadata": {},
   "source": [
    "### Lasso\n",
    "\n",
    "### TO DO\n",
    "- Following the same procedure as for ridge regression, train a lasso regression where the regularisation parameter $\\lambda$ is selected by cross-validation. "
   ]
  },
  {
   "cell_type": "code",
   "execution_count": 42,
   "metadata": {},
   "outputs": [],
   "source": [
    "from sklearn.linear_model import Lasso"
   ]
  },
  {
   "cell_type": "code",
   "execution_count": 43,
   "metadata": {},
   "outputs": [
    {
     "name": "stdout",
     "output_type": "stream",
     "text": [
      "Avg MSE (val data) for ridge regression with lambda=-2: 8.248425641444753\n",
      "Avg MSE (val data) for ridge regression with lambda=-1: 8.278748431381159\n",
      "Avg MSE (val data) for ridge regression with lambda=0: 8.64271030117902\n",
      "Avg MSE (val data) for ridge regression with lambda=1: 9.935480758271392\n",
      "Avg MSE (val data) for ridge regression with lambda=2: 9.851834565525374\n",
      "Avg MSE (val data) for ridge regression with lambda=3: 11.15619058530283\n",
      "Avg MSE (val data) for ridge regression with lambda=4: 42.34772478177712\n",
      "Avg MSE (val data) for ridge regression with lambda=5: 42.34772478177712\n"
     ]
    }
   ],
   "source": [
    "train_data = auto_sh.iloc[:n_train]\n",
    "\n",
    "kf5 = KFold(n_splits=5)\n",
    "metrics = [0] * 8;\n",
    "\n",
    "for i, (train_idx, val_idx) in enumerate(kf5.split(train_data)):\n",
    "    \n",
    "    models = []\n",
    "    \n",
    "    train_loocv = train_data.iloc[train_idx]\n",
    "    y_train_loocv = train_loocv.iloc[:,0]\n",
    "    train_loocv = train_loocv.iloc[:,1:8]\n",
    "    val_loocv = train_data.iloc[val_idx]\n",
    "    true_vals = val_loocv.iloc[:, 0]\n",
    "    val_loocv = val_loocv.iloc[:, 1:8]\n",
    "    \n",
    "    for i in range(-2, 6):\n",
    "        \n",
    "        curr_lambda = 10**i\n",
    "        curr_ridge = Lasso(alpha = curr_lambda)\n",
    "        curr_ridge.fit(train_loocv, y_train_loocv)\n",
    "        models.append(curr_ridge)\n",
    "    \n",
    "    for i in range(8):\n",
    "\n",
    "        curr_preds =  models[i].predict(val_loocv)\n",
    "        metrics[i] += sm.tools.eval_measures.mse(true_vals, curr_preds)\n",
    "\n",
    "mses = []\n",
    "for i in range(8):\n",
    "    avg_mse = metrics[i] / 5\n",
    "    mses.append(avg_mse)\n",
    "    print(f\"Avg MSE (val data) for ridge regression with lambda={i-2}: {avg_mse}\")"
   ]
  },
  {
   "cell_type": "code",
   "execution_count": 44,
   "metadata": {},
   "outputs": [
    {
     "name": "stdout",
     "output_type": "stream",
     "text": [
      "37.52768360142623\n"
     ]
    }
   ],
   "source": [
    "lasso1 = Lasso(alpha=0.1)\n",
    "lasso1.fit(X_train, y_train)\n",
    "\n",
    "preds_lasso = lasso1.predict(X_test)\n",
    "mse_lasso = sm.tools.eval_measures.mse(y_test, preds_lasso)\n",
    "print(mse_lasso)"
   ]
  },
  {
   "cell_type": "code",
   "execution_count": 45,
   "metadata": {},
   "outputs": [
    {
     "name": "stdout",
     "output_type": "stream",
     "text": [
      "Lasso coefficients:\n",
      "[-0.         -0.         -0.00812077 -0.00561074 -0.03032004  0.3949268\n",
      "  0.54294944]\n",
      "Ridge coefficients:\n",
      "[-0.36674651  0.00756434 -0.01631279 -0.00536778 -0.07208105  0.41626303\n",
      "  0.90708839]\n"
     ]
    }
   ],
   "source": [
    "print(\"Lasso coefficients:\")\n",
    "print(lasso1.coef_)\n",
    "print(\"Ridge coefficients:\")\n",
    "print(ridge1.coef_)"
   ]
  },
  {
   "cell_type": "markdown",
   "metadata": {},
   "source": [
    "### TO DO\n",
    "- Compare the estimated coefficients for your lasso to those from the ridge regression -- did lasso result in a more sparse model? (i.e. did it set some coefficients to zero and thus eliminate features from the model)"
   ]
  },
  {
   "cell_type": "markdown",
   "metadata": {},
   "source": [
    "Lasso did result in a sparse model, 2 coefficients were set to 0, while in the Ridge model no coefficients were set to 9"
   ]
  }
 ],
 "metadata": {
  "kernelspec": {
   "display_name": "assignment-07-spark-1iOGQZrB-py3.10",
   "language": "python",
   "name": "python3"
  },
  "language_info": {
   "codemirror_mode": {
    "name": "ipython",
    "version": 3
   },
   "file_extension": ".py",
   "mimetype": "text/x-python",
   "name": "python",
   "nbconvert_exporter": "python",
   "pygments_lexer": "ipython3",
   "version": "3.10.12"
  }
 },
 "nbformat": 4,
 "nbformat_minor": 4
}
