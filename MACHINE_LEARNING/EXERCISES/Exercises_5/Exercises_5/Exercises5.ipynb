{
 "cells": [
  {
   "cell_type": "markdown",
   "metadata": {},
   "source": [
    "# Exercise 5, Machine Learning 2022\n",
    "\n",
    "The following lab-session is adapted from those of Sections 5.3 and 6.3 in Introduction to Statistical Learning with R.\n",
    "\n",
    "### The Auto dataset\n",
    "We use the `Auto` dataset that was used as an example throughout Chapter 3 on linear regression. Here, we treat the variable `mpg` (gas miles in miles per gallon) as the response and `horsepower` as the single predictor.\n",
    "\n",
    "The data has 392 observations on the following 9 variables.\n",
    "\n",
    "`mpg` miles per gallon\n",
    "\n",
    "`cylinders` Number of cylinders between 4 and 8 displacementEngine displacement (cu. inches) \n",
    "\n",
    "`horsepower` Engine horsepower\n",
    "\n",
    "`weight` Vehicle weight (lbs.)\n",
    "\n",
    "`acceleration` Time to accelerate from 0 to 60 mph (sec.)\n",
    "\n",
    "`year` Model year (modulo 100)\n",
    "\n",
    "`origin` Origin of car (1. American, 2. European, 3. Japanese)\n",
    "\n",
    "`name` Vehicle name"
   ]
  },
  {
   "cell_type": "code",
   "execution_count": 99,
   "metadata": {},
   "outputs": [],
   "source": [
    "# Import relevant packages\n",
    "import numpy as np\n",
    "from pandas import read_csv, DataFrame\n",
    "from math import log, sqrt\n",
    "import matplotlib.pyplot as plt\n",
    "import pandas as pd\n",
    "import random\n",
    "\n",
    "import statsmodels.api as sm\n",
    "import statsmodels.formula.api as smf \n",
    "from statsmodels.formula.api import ols"
   ]
  },
  {
   "cell_type": "code",
   "execution_count": 100,
   "metadata": {
    "scrolled": false
   },
   "outputs": [
    {
     "data": {
      "text/html": [
       "<div>\n",
       "<style scoped>\n",
       "    .dataframe tbody tr th:only-of-type {\n",
       "        vertical-align: middle;\n",
       "    }\n",
       "\n",
       "    .dataframe tbody tr th {\n",
       "        vertical-align: top;\n",
       "    }\n",
       "\n",
       "    .dataframe thead th {\n",
       "        text-align: right;\n",
       "    }\n",
       "</style>\n",
       "<table border=\"1\" class=\"dataframe\">\n",
       "  <thead>\n",
       "    <tr style=\"text-align: right;\">\n",
       "      <th></th>\n",
       "      <th>mpg</th>\n",
       "      <th>cylinders</th>\n",
       "      <th>displacement</th>\n",
       "      <th>horsepower</th>\n",
       "      <th>weight</th>\n",
       "      <th>acceleration</th>\n",
       "      <th>year</th>\n",
       "      <th>origin</th>\n",
       "      <th>name</th>\n",
       "    </tr>\n",
       "  </thead>\n",
       "  <tbody>\n",
       "    <tr>\n",
       "      <th>0</th>\n",
       "      <td>18.0</td>\n",
       "      <td>8</td>\n",
       "      <td>307.0</td>\n",
       "      <td>130</td>\n",
       "      <td>3504</td>\n",
       "      <td>12.0</td>\n",
       "      <td>70</td>\n",
       "      <td>1</td>\n",
       "      <td>chevrolet chevelle malibu</td>\n",
       "    </tr>\n",
       "    <tr>\n",
       "      <th>1</th>\n",
       "      <td>15.0</td>\n",
       "      <td>8</td>\n",
       "      <td>350.0</td>\n",
       "      <td>165</td>\n",
       "      <td>3693</td>\n",
       "      <td>11.5</td>\n",
       "      <td>70</td>\n",
       "      <td>1</td>\n",
       "      <td>buick skylark 320</td>\n",
       "    </tr>\n",
       "    <tr>\n",
       "      <th>2</th>\n",
       "      <td>18.0</td>\n",
       "      <td>8</td>\n",
       "      <td>318.0</td>\n",
       "      <td>150</td>\n",
       "      <td>3436</td>\n",
       "      <td>11.0</td>\n",
       "      <td>70</td>\n",
       "      <td>1</td>\n",
       "      <td>plymouth satellite</td>\n",
       "    </tr>\n",
       "    <tr>\n",
       "      <th>3</th>\n",
       "      <td>16.0</td>\n",
       "      <td>8</td>\n",
       "      <td>304.0</td>\n",
       "      <td>150</td>\n",
       "      <td>3433</td>\n",
       "      <td>12.0</td>\n",
       "      <td>70</td>\n",
       "      <td>1</td>\n",
       "      <td>amc rebel sst</td>\n",
       "    </tr>\n",
       "    <tr>\n",
       "      <th>4</th>\n",
       "      <td>17.0</td>\n",
       "      <td>8</td>\n",
       "      <td>302.0</td>\n",
       "      <td>140</td>\n",
       "      <td>3449</td>\n",
       "      <td>10.5</td>\n",
       "      <td>70</td>\n",
       "      <td>1</td>\n",
       "      <td>ford torino</td>\n",
       "    </tr>\n",
       "  </tbody>\n",
       "</table>\n",
       "</div>"
      ],
      "text/plain": [
       "    mpg  cylinders  displacement  horsepower  weight  acceleration  year  \\\n",
       "0  18.0          8         307.0         130    3504          12.0    70   \n",
       "1  15.0          8         350.0         165    3693          11.5    70   \n",
       "2  18.0          8         318.0         150    3436          11.0    70   \n",
       "3  16.0          8         304.0         150    3433          12.0    70   \n",
       "4  17.0          8         302.0         140    3449          10.5    70   \n",
       "\n",
       "   origin                       name  \n",
       "0       1  chevrolet chevelle malibu  \n",
       "1       1          buick skylark 320  \n",
       "2       1         plymouth satellite  \n",
       "3       1              amc rebel sst  \n",
       "4       1                ford torino  "
      ]
     },
     "execution_count": 100,
     "metadata": {},
     "output_type": "execute_result"
    }
   ],
   "source": [
    "# Load data from csv; change the directory as you need!\n",
    "Auto = read_csv(\"Auto.csv\")\n",
    "# show the first line of the dataset to see if everything was alright\n",
    "Auto.head()"
   ]
  },
  {
   "cell_type": "markdown",
   "metadata": {},
   "source": [
    "*It is recommended that you set a random seed, so that any results based on randomness are recreated whenever you run the notebook.*"
   ]
  },
  {
   "cell_type": "markdown",
   "metadata": {},
   "source": [
    "*WHY DO WE NEED A SEED?*\n",
    "\n",
    "Basically now we will split our dataset into training and test data or maybe into three so training validation and test data :\n",
    "\n",
    "                                    |train|validation|   or   |train|validation|test| \n",
    "\n",
    "In order to randomly generate this subsets we want to create a random  number generator that will divide our full data into this subsets. What we also wana be able to do is to alaways retrieve the same set otherwise it would be impossible to make comparison etc... In order to do this we give our random number generator a seed which gives the ability of retrieving the same sequence every time\n",
    "\n",
    "written by Lamberto\n"
   ]
  },
  {
   "cell_type": "code",
   "execution_count": 101,
   "metadata": {},
   "outputs": [],
   "source": [
    "## Set seed!\n",
    "# np.random.seed(42)\n",
    "random.seed(42)"
   ]
  },
  {
   "cell_type": "markdown",
   "metadata": {},
   "source": [
    "## The validation set approach\n",
    "\n",
    "Split the set of observations into two halves by selecting a random subset of 196 obervations out of the original 392 observations. We refer to these observations as the *training set* and the remaining observations as the *validation set*. For creating the random split, you can use `random.sample(seq, n)` to select `n` numbers without replacement from the sequence `seq`. (There is also a built-in function `train_test_split` that can split your data, but here you split it yourself so that you understand in detail how to achieve the datasets)."
   ]
  },
  {
   "cell_type": "code",
   "execution_count": 102,
   "metadata": {},
   "outputs": [],
   "source": [
    "# What we are gonna do here is split our data into set and training data \n",
    "# explanation on the markdown below\n",
    "\n",
    "def randomize_split(n, n_samples):\n",
    "\n",
    "    train = random.sample([x for x in range(n)], n_samples)\n",
    "\n",
    "    validation = [x for x in range(n) if x not in train]\n",
    "\n",
    "    return train,validation"
   ]
  },
  {
   "cell_type": "markdown",
   "metadata": {},
   "source": [
    "*Retrieve indexes from the split*\n",
    "\n",
    "What we want to do is split the data into half training and half validation so instead of doing it directly on the samples of the dataset we simply can yield a division on indexes (numbers). Doing this we get two sets of numbers that will be the samples to retrieve from the dataset.\n",
    "\n",
    "Daset -> 392 samples\n",
    "\n",
    "training set -> 196 samples\n",
    "\n",
    "validation set -> 196 samples\n",
    "\n",
    "I.e \n",
    "if in the first set (the training), we have number 67 then the sample 67 will be part of the training set and the same is for validation.\n",
    "This ease the way of splitting the set cause we simply do a set division on numbers NOT DIRECTLY ON DATA SAMPLES.\n",
    "\n",
    "written by Lamberto"
   ]
  },
  {
   "cell_type": "code",
   "execution_count": 103,
   "metadata": {},
   "outputs": [
    {
     "name": "stdout",
     "output_type": "stream",
     "text": [
      "this are the indexes of the training set : [327, 57, 12, 379, 140, 125, 114, 71, 377, 52, 346, 388, 279, 44, 302, 216, 16, 15, 47, 111, 119, 258, 308, 13, 287, 101, 332, 359, 380, 214, 112, 229, 301, 142, 3, 81, 376, 174, 358, 79, 110, 172, 382, 373, 194, 49, 183, 176, 309, 135, 22, 235, 274, 63, 193, 40, 282, 150, 321, 316, 185, 295, 98, 35, 23, 116, 148, 336, 371, 51, 347, 353, 232, 186, 83, 189, 181, 107, 136, 36, 311, 87, 273, 386, 317, 236, 333, 138, 285, 361, 166, 28, 117, 375, 161, 205, 137, 33, 108, 290, 297, 293, 255, 202, 234, 73, 342, 384, 126, 275, 134, 219, 204, 331, 383, 70, 260, 252, 46, 24, 56, 78, 356, 355, 32, 197, 195, 239, 128, 5, 58, 313, 354, 390, 334, 222, 80, 326, 0, 244, 184, 224, 251, 67, 263, 265, 45, 129, 233, 27, 256, 160, 76, 215, 163, 339, 155, 50, 39, 95, 246, 41, 304, 199, 303, 253, 153, 82, 369, 4, 300, 92, 212, 206, 270, 61, 14, 268, 145, 20, 21, 187, 124, 208, 17, 305, 335, 196, 267, 203, 168, 121, 387, 42, 248, 227]\n",
      "this are the indexes of the test set : [1, 2, 6, 7, 8, 9, 10, 11, 18, 19, 25, 26, 29, 30, 31, 34, 37, 38, 43, 48, 53, 54, 55, 59, 60, 62, 64, 65, 66, 68, 69, 72, 74, 75, 77, 84, 85, 86, 88, 89, 90, 91, 93, 94, 96, 97, 99, 100, 102, 103, 104, 105, 106, 109, 113, 115, 118, 120, 122, 123, 127, 130, 131, 132, 133, 139, 141, 143, 144, 146, 147, 149, 151, 152, 154, 156, 157, 158, 159, 162, 164, 165, 167, 169, 170, 171, 173, 175, 177, 178, 179, 180, 182, 188, 190, 191, 192, 198, 200, 201, 207, 209, 210, 211, 213, 217, 218, 220, 221, 223, 225, 226, 228, 230, 231, 237, 238, 240, 241, 242, 243, 245, 247, 249, 250, 254, 257, 259, 261, 262, 264, 266, 269, 271, 272, 276, 277, 278, 280, 281, 283, 284, 286, 288, 289, 291, 292, 294, 296, 298, 299, 306, 307, 310, 312, 314, 315, 318, 319, 320, 322, 323, 324, 325, 328, 329, 330, 337, 338, 340, 341, 343, 344, 345, 348, 349, 350, 351, 352, 357, 360, 362, 363, 364, 365, 366, 367, 368, 370, 372, 374, 378, 381, 385, 389, 391]\n"
     ]
    }
   ],
   "source": [
    "# retrieve the splitted sets\n",
    "train, test = randomize_split(392, 392//2)\n",
    "print(\"this are the indexes of the training set :\", train)\n",
    "print(\"this are the indexes of the test set :\", test)"
   ]
  },
  {
   "cell_type": "code",
   "execution_count": 104,
   "metadata": {},
   "outputs": [
    {
     "name": "stdout",
     "output_type": "stream",
     "text": [
      "train set is : \n",
      "       mpg  cylinders  displacement  horsepower  weight  acceleration  year  \\\n",
      "327  44.6          4          91.0          67    1850          13.8    80   \n",
      "\n",
      "     origin                 name  \n",
      "327       3  honda civic 1500 gl   \n",
      "\n",
      "linear variable with intercept :\n",
      "      const  horsepower\n",
      "327    1.0          67\n",
      "57     1.0          80\n",
      "12     1.0         150\n",
      "379    1.0          67\n",
      "140    1.0          67\n",
      "..     ...         ...\n",
      "121    1.0         110\n",
      "387    1.0          86\n",
      "42     1.0         170\n",
      "248    1.0         140\n",
      "227    1.0         180\n",
      "\n",
      "[196 rows x 2 columns]\n"
     ]
    }
   ],
   "source": [
    "# Now we have only the indexes so what we need to do is actually split the dataset with the real features\n",
    "\n",
    "# first the training set\n",
    "\n",
    "# The .iloc indexer is used for integer-location based indexing in pandas. \n",
    "# It allows you to select rows and columns by their integer position (i.e., index numbers).\n",
    "# So the iloc is exactly what we need to map our features to our indexes\n",
    "# the syntax is iloc[row_indices, column_indices]\n",
    "# in our case we want the train indexes as rows and all the columns\n",
    "train = Auto.iloc[train, :]\n",
    "print(\"train set is : \\n\",train.head(1),\"\\n\")\n",
    "\n",
    "# Now we retrieved the features from the dataset and we are inetreseted in specific columns\n",
    "# the specific columns are horsepower and mpg\n",
    "# mpg is what we want to predict so the dependent variable\n",
    "# horsepower is what we use to predict so the indipendent variable\n",
    "x_train = train['horsepower']\n",
    "y_train = train['mpg']\n",
    "# remember the intercept is to add \n",
    "x_train = sm.add_constant(x_train)\n",
    "print(\"linear variable with intercept :\\n\",(x_train))"
   ]
  },
  {
   "cell_type": "code",
   "execution_count": 105,
   "metadata": {},
   "outputs": [
    {
     "name": "stdout",
     "output_type": "stream",
     "text": [
      "this is the test set : \n",
      "     mpg  cylinders  displacement  horsepower  weight  acceleration  year  \\\n",
      "1  15.0          8         350.0         165    3693          11.5    70   \n",
      "\n",
      "   origin               name  \n",
      "1       1  buick skylark 320   \n",
      "\n",
      "this is the testing variable with intercept : \n",
      "      const  horsepower\n",
      "1      1.0         165\n",
      "2      1.0         150\n",
      "6      1.0         220\n",
      "7      1.0         215\n",
      "8      1.0         225\n",
      "..     ...         ...\n",
      "378    1.0          67\n",
      "381    1.0          85\n",
      "385    1.0          84\n",
      "389    1.0          84\n",
      "391    1.0          82\n",
      "\n",
      "[196 rows x 2 columns]\n"
     ]
    }
   ],
   "source": [
    "# now the validation set\n",
    "\n",
    "testing = Auto.iloc[test,:]\n",
    "print(\"this is the test set : \\n\", testing.head(1), \"\\n\")\n",
    "\n",
    "y_test = testing['mpg']\n",
    "x_test = testing['horsepower']\n",
    "x_test = sm.add_constant(x_test)\n",
    "print(\"this is the testing variable with intercept : \\n\", x_test)\n",
    "\n"
   ]
  },
  {
   "cell_type": "markdown",
   "metadata": {},
   "source": [
    "Fit a linear regression on the training set: `mpg`$= \\beta_0 + \\beta_1$ `horsepower` $+\\epsilon$."
   ]
  },
  {
   "cell_type": "code",
   "execution_count": 106,
   "metadata": {},
   "outputs": [
    {
     "data": {
      "text/html": [
       "<table class=\"simpletable\">\n",
       "<caption>OLS Regression Results</caption>\n",
       "<tr>\n",
       "  <th>Dep. Variable:</th>           <td>mpg</td>       <th>  R-squared:         </th> <td>   0.596</td>\n",
       "</tr>\n",
       "<tr>\n",
       "  <th>Model:</th>                   <td>OLS</td>       <th>  Adj. R-squared:    </th> <td>   0.594</td>\n",
       "</tr>\n",
       "<tr>\n",
       "  <th>Method:</th>             <td>Least Squares</td>  <th>  F-statistic:       </th> <td>   286.6</td>\n",
       "</tr>\n",
       "<tr>\n",
       "  <th>Date:</th>             <td>Wed, 02 Oct 2024</td> <th>  Prob (F-statistic):</th> <td>4.47e-40</td>\n",
       "</tr>\n",
       "<tr>\n",
       "  <th>Time:</th>                 <td>08:30:09</td>     <th>  Log-Likelihood:    </th> <td> -573.57</td>\n",
       "</tr>\n",
       "<tr>\n",
       "  <th>No. Observations:</th>      <td>   196</td>      <th>  AIC:               </th> <td>   1151.</td>\n",
       "</tr>\n",
       "<tr>\n",
       "  <th>Df Residuals:</th>          <td>   194</td>      <th>  BIC:               </th> <td>   1158.</td>\n",
       "</tr>\n",
       "<tr>\n",
       "  <th>Df Model:</th>              <td>     1</td>      <th>                     </th>     <td> </td>   \n",
       "</tr>\n",
       "<tr>\n",
       "  <th>Covariance Type:</th>      <td>nonrobust</td>    <th>                     </th>     <td> </td>   \n",
       "</tr>\n",
       "</table>\n",
       "<table class=\"simpletable\">\n",
       "<tr>\n",
       "       <td></td>         <th>coef</th>     <th>std err</th>      <th>t</th>      <th>P>|t|</th>  <th>[0.025</th>    <th>0.975]</th>  \n",
       "</tr>\n",
       "<tr>\n",
       "  <th>const</th>      <td>   39.7094</td> <td>    1.011</td> <td>   39.271</td> <td> 0.000</td> <td>   37.715</td> <td>   41.704</td>\n",
       "</tr>\n",
       "<tr>\n",
       "  <th>horsepower</th> <td>   -0.1620</td> <td>    0.010</td> <td>  -16.930</td> <td> 0.000</td> <td>   -0.181</td> <td>   -0.143</td>\n",
       "</tr>\n",
       "</table>\n",
       "<table class=\"simpletable\">\n",
       "<tr>\n",
       "  <th>Omnibus:</th>       <td> 7.055</td> <th>  Durbin-Watson:     </th> <td>   1.887</td>\n",
       "</tr>\n",
       "<tr>\n",
       "  <th>Prob(Omnibus):</th> <td> 0.029</td> <th>  Jarque-Bera (JB):  </th> <td>   6.755</td>\n",
       "</tr>\n",
       "<tr>\n",
       "  <th>Skew:</th>          <td> 0.420</td> <th>  Prob(JB):          </th> <td>  0.0341</td>\n",
       "</tr>\n",
       "<tr>\n",
       "  <th>Kurtosis:</th>      <td> 3.350</td> <th>  Cond. No.          </th> <td>    330.</td>\n",
       "</tr>\n",
       "</table><br/><br/>Notes:<br/>[1] Standard Errors assume that the covariance matrix of the errors is correctly specified."
      ],
      "text/latex": [
       "\\begin{center}\n",
       "\\begin{tabular}{lclc}\n",
       "\\toprule\n",
       "\\textbf{Dep. Variable:}    &       mpg        & \\textbf{  R-squared:         } &     0.596   \\\\\n",
       "\\textbf{Model:}            &       OLS        & \\textbf{  Adj. R-squared:    } &     0.594   \\\\\n",
       "\\textbf{Method:}           &  Least Squares   & \\textbf{  F-statistic:       } &     286.6   \\\\\n",
       "\\textbf{Date:}             & Wed, 02 Oct 2024 & \\textbf{  Prob (F-statistic):} &  4.47e-40   \\\\\n",
       "\\textbf{Time:}             &     08:30:09     & \\textbf{  Log-Likelihood:    } &   -573.57   \\\\\n",
       "\\textbf{No. Observations:} &         196      & \\textbf{  AIC:               } &     1151.   \\\\\n",
       "\\textbf{Df Residuals:}     &         194      & \\textbf{  BIC:               } &     1158.   \\\\\n",
       "\\textbf{Df Model:}         &           1      & \\textbf{                     } &             \\\\\n",
       "\\textbf{Covariance Type:}  &    nonrobust     & \\textbf{                     } &             \\\\\n",
       "\\bottomrule\n",
       "\\end{tabular}\n",
       "\\begin{tabular}{lcccccc}\n",
       "                    & \\textbf{coef} & \\textbf{std err} & \\textbf{t} & \\textbf{P$> |$t$|$} & \\textbf{[0.025} & \\textbf{0.975]}  \\\\\n",
       "\\midrule\n",
       "\\textbf{const}      &      39.7094  &        1.011     &    39.271  &         0.000        &       37.715    &       41.704     \\\\\n",
       "\\textbf{horsepower} &      -0.1620  &        0.010     &   -16.930  &         0.000        &       -0.181    &       -0.143     \\\\\n",
       "\\bottomrule\n",
       "\\end{tabular}\n",
       "\\begin{tabular}{lclc}\n",
       "\\textbf{Omnibus:}       &  7.055 & \\textbf{  Durbin-Watson:     } &    1.887  \\\\\n",
       "\\textbf{Prob(Omnibus):} &  0.029 & \\textbf{  Jarque-Bera (JB):  } &    6.755  \\\\\n",
       "\\textbf{Skew:}          &  0.420 & \\textbf{  Prob(JB):          } &   0.0341  \\\\\n",
       "\\textbf{Kurtosis:}      &  3.350 & \\textbf{  Cond. No.          } &     330.  \\\\\n",
       "\\bottomrule\n",
       "\\end{tabular}\n",
       "%\\caption{OLS Regression Results}\n",
       "\\end{center}\n",
       "\n",
       "Notes: \\newline\n",
       " [1] Standard Errors assume that the covariance matrix of the errors is correctly specified."
      ],
      "text/plain": [
       "<class 'statsmodels.iolib.summary.Summary'>\n",
       "\"\"\"\n",
       "                            OLS Regression Results                            \n",
       "==============================================================================\n",
       "Dep. Variable:                    mpg   R-squared:                       0.596\n",
       "Model:                            OLS   Adj. R-squared:                  0.594\n",
       "Method:                 Least Squares   F-statistic:                     286.6\n",
       "Date:                Wed, 02 Oct 2024   Prob (F-statistic):           4.47e-40\n",
       "Time:                        08:30:09   Log-Likelihood:                -573.57\n",
       "No. Observations:                 196   AIC:                             1151.\n",
       "Df Residuals:                     194   BIC:                             1158.\n",
       "Df Model:                           1                                         \n",
       "Covariance Type:            nonrobust                                         \n",
       "==============================================================================\n",
       "                 coef    std err          t      P>|t|      [0.025      0.975]\n",
       "------------------------------------------------------------------------------\n",
       "const         39.7094      1.011     39.271      0.000      37.715      41.704\n",
       "horsepower    -0.1620      0.010    -16.930      0.000      -0.181      -0.143\n",
       "==============================================================================\n",
       "Omnibus:                        7.055   Durbin-Watson:                   1.887\n",
       "Prob(Omnibus):                  0.029   Jarque-Bera (JB):                6.755\n",
       "Skew:                           0.420   Prob(JB):                       0.0341\n",
       "Kurtosis:                       3.350   Cond. No.                         330.\n",
       "==============================================================================\n",
       "\n",
       "Notes:\n",
       "[1] Standard Errors assume that the covariance matrix of the errors is correctly specified.\n",
       "\"\"\""
      ]
     },
     "execution_count": 106,
     "metadata": {},
     "output_type": "execute_result"
    }
   ],
   "source": [
    "# we wanna fit a linear regression predicting mpg regressed on horsepower\n",
    "# we are now working not with the whole set but with the training set\n",
    "# we use OLS and not ols because we are handling our own sets and the OLS gives the possibiity to \n",
    "# pass directly our created design matrix (intercept + variables), that we created before\n",
    "lm1 = sm.OLS(y_train,x_train)\n",
    "# fit the model -> actually do the linear regression\n",
    "lm1 = lm1.fit()\n",
    "# summary gives us the result of the linear regression\n",
    "lm1.summary()"
   ]
  },
  {
   "cell_type": "markdown",
   "metadata": {},
   "source": [
    "Compute the MSE on the 196 observations that are the validation set."
   ]
  },
  {
   "cell_type": "code",
   "execution_count": 107,
   "metadata": {},
   "outputs": [
    {
     "data": {
      "text/plain": [
       "1      12.975070\n",
       "2      15.405466\n",
       "6       4.063616\n",
       "7       4.873748\n",
       "8       3.253484\n",
       "         ...    \n",
       "378    28.853660\n",
       "381    25.937184\n",
       "385    26.099211\n",
       "389    26.099211\n",
       "391    26.423264\n",
       "Length: 196, dtype: float64"
      ]
     },
     "execution_count": 107,
     "metadata": {},
     "output_type": "execute_result"
    }
   ],
   "source": [
    "# in order to compute the MSE on the validation we want to use the model to predict the validation y's by fitting the model with\n",
    "# the x's that it never saw which are the x's of the validation set \n",
    "predictions = lm1.predict(x_test)\n",
    "predictions"
   ]
  },
  {
   "cell_type": "code",
   "execution_count": 108,
   "metadata": {},
   "outputs": [
    {
     "data": {
      "text/html": [
       "<div>\n",
       "<style scoped>\n",
       "    .dataframe tbody tr th:only-of-type {\n",
       "        vertical-align: middle;\n",
       "    }\n",
       "\n",
       "    .dataframe tbody tr th {\n",
       "        vertical-align: top;\n",
       "    }\n",
       "\n",
       "    .dataframe thead th {\n",
       "        text-align: right;\n",
       "    }\n",
       "</style>\n",
       "<table border=\"1\" class=\"dataframe\">\n",
       "  <thead>\n",
       "    <tr style=\"text-align: right;\">\n",
       "      <th></th>\n",
       "      <th>predicted</th>\n",
       "      <th>reality</th>\n",
       "    </tr>\n",
       "  </thead>\n",
       "  <tbody>\n",
       "    <tr>\n",
       "      <th>1</th>\n",
       "      <td>12.975070</td>\n",
       "      <td>15.0</td>\n",
       "    </tr>\n",
       "    <tr>\n",
       "      <th>2</th>\n",
       "      <td>15.405466</td>\n",
       "      <td>18.0</td>\n",
       "    </tr>\n",
       "    <tr>\n",
       "      <th>6</th>\n",
       "      <td>4.063616</td>\n",
       "      <td>14.0</td>\n",
       "    </tr>\n",
       "    <tr>\n",
       "      <th>7</th>\n",
       "      <td>4.873748</td>\n",
       "      <td>14.0</td>\n",
       "    </tr>\n",
       "    <tr>\n",
       "      <th>8</th>\n",
       "      <td>3.253484</td>\n",
       "      <td>14.0</td>\n",
       "    </tr>\n",
       "    <tr>\n",
       "      <th>...</th>\n",
       "      <td>...</td>\n",
       "      <td>...</td>\n",
       "    </tr>\n",
       "    <tr>\n",
       "      <th>378</th>\n",
       "      <td>28.853660</td>\n",
       "      <td>32.0</td>\n",
       "    </tr>\n",
       "    <tr>\n",
       "      <th>381</th>\n",
       "      <td>25.937184</td>\n",
       "      <td>38.0</td>\n",
       "    </tr>\n",
       "    <tr>\n",
       "      <th>385</th>\n",
       "      <td>26.099211</td>\n",
       "      <td>36.0</td>\n",
       "    </tr>\n",
       "    <tr>\n",
       "      <th>389</th>\n",
       "      <td>26.099211</td>\n",
       "      <td>32.0</td>\n",
       "    </tr>\n",
       "    <tr>\n",
       "      <th>391</th>\n",
       "      <td>26.423264</td>\n",
       "      <td>31.0</td>\n",
       "    </tr>\n",
       "  </tbody>\n",
       "</table>\n",
       "<p>196 rows × 2 columns</p>\n",
       "</div>"
      ],
      "text/plain": [
       "     predicted  reality\n",
       "1    12.975070     15.0\n",
       "2    15.405466     18.0\n",
       "6     4.063616     14.0\n",
       "7     4.873748     14.0\n",
       "8     3.253484     14.0\n",
       "..         ...      ...\n",
       "378  28.853660     32.0\n",
       "381  25.937184     38.0\n",
       "385  26.099211     36.0\n",
       "389  26.099211     32.0\n",
       "391  26.423264     31.0\n",
       "\n",
       "[196 rows x 2 columns]"
      ]
     },
     "execution_count": 108,
     "metadata": {},
     "output_type": "execute_result"
    }
   ],
   "source": [
    "# now we to compute MSE we are basically gonna compare them with the actual real y's that are in our y_test\n",
    "# first we can have a visual comparison \n",
    "comparison = pd.DataFrame({\n",
    "    \"predicted\" : predictions,\n",
    "    \"reality\" : y_test \n",
    "})\n",
    "comparison"
   ]
  },
  {
   "cell_type": "code",
   "execution_count": 109,
   "metadata": {},
   "outputs": [
    {
     "data": {
      "text/html": [
       "<div>\n",
       "<style scoped>\n",
       "    .dataframe tbody tr th:only-of-type {\n",
       "        vertical-align: middle;\n",
       "    }\n",
       "\n",
       "    .dataframe tbody tr th {\n",
       "        vertical-align: top;\n",
       "    }\n",
       "\n",
       "    .dataframe thead th {\n",
       "        text-align: right;\n",
       "    }\n",
       "</style>\n",
       "<table border=\"1\" class=\"dataframe\">\n",
       "  <thead>\n",
       "    <tr style=\"text-align: right;\">\n",
       "      <th></th>\n",
       "      <th>mean</th>\n",
       "      <th>mean_se</th>\n",
       "      <th>mean_ci_lower</th>\n",
       "      <th>mean_ci_upper</th>\n",
       "      <th>obs_ci_lower</th>\n",
       "      <th>obs_ci_upper</th>\n",
       "    </tr>\n",
       "  </thead>\n",
       "  <tbody>\n",
       "    <tr>\n",
       "      <th>327</th>\n",
       "      <td>28.853660</td>\n",
       "      <td>0.453091</td>\n",
       "      <td>27.960043</td>\n",
       "      <td>29.747277</td>\n",
       "      <td>19.858474</td>\n",
       "      <td>37.848846</td>\n",
       "    </tr>\n",
       "    <tr>\n",
       "      <th>57</th>\n",
       "      <td>26.747316</td>\n",
       "      <td>0.376829</td>\n",
       "      <td>26.004108</td>\n",
       "      <td>27.490524</td>\n",
       "      <td>17.765826</td>\n",
       "      <td>35.728807</td>\n",
       "    </tr>\n",
       "    <tr>\n",
       "      <th>12</th>\n",
       "      <td>15.405466</td>\n",
       "      <td>0.577381</td>\n",
       "      <td>14.266716</td>\n",
       "      <td>16.544216</td>\n",
       "      <td>6.382630</td>\n",
       "      <td>24.428302</td>\n",
       "    </tr>\n",
       "    <tr>\n",
       "      <th>379</th>\n",
       "      <td>28.853660</td>\n",
       "      <td>0.453091</td>\n",
       "      <td>27.960043</td>\n",
       "      <td>29.747277</td>\n",
       "      <td>19.858474</td>\n",
       "      <td>37.848846</td>\n",
       "    </tr>\n",
       "    <tr>\n",
       "      <th>140</th>\n",
       "      <td>28.853660</td>\n",
       "      <td>0.453091</td>\n",
       "      <td>27.960043</td>\n",
       "      <td>29.747277</td>\n",
       "      <td>19.858474</td>\n",
       "      <td>37.848846</td>\n",
       "    </tr>\n",
       "    <tr>\n",
       "      <th>...</th>\n",
       "      <td>...</td>\n",
       "      <td>...</td>\n",
       "      <td>...</td>\n",
       "      <td>...</td>\n",
       "      <td>...</td>\n",
       "      <td>...</td>\n",
       "    </tr>\n",
       "    <tr>\n",
       "      <th>121</th>\n",
       "      <td>21.886523</td>\n",
       "      <td>0.337789</td>\n",
       "      <td>21.220314</td>\n",
       "      <td>22.552733</td>\n",
       "      <td>12.911076</td>\n",
       "      <td>30.861971</td>\n",
       "    </tr>\n",
       "    <tr>\n",
       "      <th>387</th>\n",
       "      <td>25.775158</td>\n",
       "      <td>0.351042</td>\n",
       "      <td>25.082808</td>\n",
       "      <td>26.467507</td>\n",
       "      <td>16.797733</td>\n",
       "      <td>34.752583</td>\n",
       "    </tr>\n",
       "    <tr>\n",
       "      <th>42</th>\n",
       "      <td>12.164937</td>\n",
       "      <td>0.743584</td>\n",
       "      <td>10.698391</td>\n",
       "      <td>13.631484</td>\n",
       "      <td>3.094900</td>\n",
       "      <td>21.234975</td>\n",
       "    </tr>\n",
       "    <tr>\n",
       "      <th>248</th>\n",
       "      <td>17.025730</td>\n",
       "      <td>0.501072</td>\n",
       "      <td>16.037482</td>\n",
       "      <td>18.013979</td>\n",
       "      <td>8.020651</td>\n",
       "      <td>26.030810</td>\n",
       "    </tr>\n",
       "    <tr>\n",
       "      <th>227</th>\n",
       "      <td>10.544673</td>\n",
       "      <td>0.830765</td>\n",
       "      <td>8.906183</td>\n",
       "      <td>12.183163</td>\n",
       "      <td>1.445252</td>\n",
       "      <td>19.644094</td>\n",
       "    </tr>\n",
       "  </tbody>\n",
       "</table>\n",
       "<p>196 rows × 6 columns</p>\n",
       "</div>"
      ],
      "text/plain": [
       "          mean   mean_se  mean_ci_lower  mean_ci_upper  obs_ci_lower  \\\n",
       "327  28.853660  0.453091      27.960043      29.747277     19.858474   \n",
       "57   26.747316  0.376829      26.004108      27.490524     17.765826   \n",
       "12   15.405466  0.577381      14.266716      16.544216      6.382630   \n",
       "379  28.853660  0.453091      27.960043      29.747277     19.858474   \n",
       "140  28.853660  0.453091      27.960043      29.747277     19.858474   \n",
       "..         ...       ...            ...            ...           ...   \n",
       "121  21.886523  0.337789      21.220314      22.552733     12.911076   \n",
       "387  25.775158  0.351042      25.082808      26.467507     16.797733   \n",
       "42   12.164937  0.743584      10.698391      13.631484      3.094900   \n",
       "248  17.025730  0.501072      16.037482      18.013979      8.020651   \n",
       "227  10.544673  0.830765       8.906183      12.183163      1.445252   \n",
       "\n",
       "     obs_ci_upper  \n",
       "327     37.848846  \n",
       "57      35.728807  \n",
       "12      24.428302  \n",
       "379     37.848846  \n",
       "140     37.848846  \n",
       "..            ...  \n",
       "121     30.861971  \n",
       "387     34.752583  \n",
       "42      21.234975  \n",
       "248     26.030810  \n",
       "227     19.644094  \n",
       "\n",
       "[196 rows x 6 columns]"
      ]
     },
     "execution_count": 109,
     "metadata": {},
     "output_type": "execute_result"
    }
   ],
   "source": [
    "# the predict() function gives us simply the result of the linear model and nothing more\n",
    "# while when we use get_prediction() we get a more structured output with many more informations\n",
    "prediction_stats =  lm1.get_prediction(x_train)\n",
    "summary = prediction_stats.summary_frame()\n",
    "summary"
   ]
  },
  {
   "cell_type": "code",
   "execution_count": 110,
   "metadata": {},
   "outputs": [
    {
     "data": {
      "text/plain": [
       "np.float64(111.47647729910564)"
      ]
     },
     "execution_count": 110,
     "metadata": {},
     "output_type": "execute_result"
    }
   ],
   "source": [
    "# Now based on our prediction stats lets retrieve the actual values and compute the Mean Squared Error\n",
    "# values are stored under the field : mean\n",
    "predicted_values = summary[\"mean\"]\n",
    "# the followinig will compute the mse between real values and predicted values of the test data\n",
    "mse = sm.tools.eval_measures.mse(y_test,predicted_values)\n",
    "mse"
   ]
  },
  {
   "cell_type": "markdown",
   "metadata": {},
   "source": [
    "Now estimate also the MSE for the quadradic and cubic regressions.\n",
    "\n",
    "The ISLwR book found an estimated test MSE of (23.27, 18.27, and 18.79) for the three regression models. \n",
    "\n",
    "Set another seed and create a different split of your data - do you get different results? Why?\n"
   ]
  },
  {
   "cell_type": "code",
   "execution_count": 111,
   "metadata": {},
   "outputs": [],
   "source": [
    "# now given that we are tryin to find the mse for different mse's for different models, \n",
    "# we can simply create a function where we will pass our model so that it gives back the mse\n",
    "\n",
    "def compute_mse(model,x,y):\n",
    "    # simply compute the same procedure we've done for the one above\n",
    "    pred_stats = model.get_prediction(x)\n",
    "    summary_frame = pred_stats.summary_frame()\n",
    "    pred_values = summary_frame['mean']\n",
    "    calculated_mse = sm.tools.eval_measures.mse(y,pred_values)  \n",
    "    return calculated_mse\n"
   ]
  },
  {
   "cell_type": "markdown",
   "metadata": {},
   "source": [
    "*HOW DO WE FIND THE QUADRATIC AND CUBIC REGRESSIONS??*\n",
    "\n",
    "to find what we are searching for we can use some built-in functions from sklearn. What we are gonna use is PolynomialFeatures : \n",
    "https://scikit-learn.org/stable/modules/generated/sklearn.preprocessing.PolynomialFeatures.html\n",
    "\n",
    "written by Lamberto Ragnolini"
   ]
  },
  {
   "cell_type": "code",
   "execution_count": 112,
   "metadata": {},
   "outputs": [],
   "source": [
    "from sklearn.preprocessing import PolynomialFeatures"
   ]
  },
  {
   "cell_type": "markdown",
   "metadata": {},
   "source": []
  },
  {
   "cell_type": "code",
   "execution_count": 113,
   "metadata": {},
   "outputs": [
    {
     "name": "stdout",
     "output_type": "stream",
     "text": [
      "the shape of the new matrix is : \n",
      " (196, 3) \n",
      "\n",
      "while the new training matrix is : \n",
      " [[1.0000e+00 6.7000e+01 4.4890e+03]\n",
      " [1.0000e+00 8.0000e+01 6.4000e+03]\n",
      " [1.0000e+00 1.5000e+02 2.2500e+04]\n",
      " [1.0000e+00 6.7000e+01 4.4890e+03]\n",
      " [1.0000e+00 6.7000e+01 4.4890e+03]\n",
      " [1.0000e+00 1.0000e+02 1.0000e+04]\n",
      " [1.0000e+00 1.4500e+02 2.1025e+04]\n",
      " [1.0000e+00 1.5000e+02 2.2500e+04]\n",
      " [1.0000e+00 6.7000e+01 4.4890e+03]\n",
      " [1.0000e+00 6.5000e+01 4.2250e+03]\n",
      " [1.0000e+00 6.3000e+01 3.9690e+03]\n",
      " [1.0000e+00 5.2000e+01 2.7040e+03]\n",
      " [1.0000e+00 8.5000e+01 7.2250e+03]\n",
      " [1.0000e+00 1.1000e+02 1.2100e+04]\n",
      " [1.0000e+00 6.9000e+01 4.7610e+03]\n",
      " [1.0000e+00 5.8000e+01 3.3640e+03]\n",
      " [1.0000e+00 9.7000e+01 9.4090e+03]\n",
      " [1.0000e+00 9.5000e+01 9.0250e+03]\n",
      " [1.0000e+00 8.8000e+01 7.7440e+03]\n",
      " [1.0000e+00 8.5000e+01 7.2250e+03]\n",
      " [1.0000e+00 1.1200e+02 1.2544e+04]\n",
      " [1.0000e+00 1.1000e+02 1.2100e+04]\n",
      " [1.0000e+00 6.0000e+01 3.6000e+03]\n",
      " [1.0000e+00 2.2500e+02 5.0625e+04]\n",
      " [1.0000e+00 1.5500e+02 2.4025e+04]\n",
      " [1.0000e+00 4.6000e+01 2.1160e+03]\n",
      " [1.0000e+00 8.8000e+01 7.7440e+03]\n",
      " [1.0000e+00 1.0500e+02 1.1025e+04]\n",
      " [1.0000e+00 1.1000e+02 1.2100e+04]\n",
      " [1.0000e+00 6.8000e+01 4.6240e+03]\n",
      " [1.0000e+00 1.0700e+02 1.1449e+04]\n",
      " [1.0000e+00 1.9000e+02 3.6100e+04]\n",
      " [1.0000e+00 6.5000e+01 4.2250e+03]\n",
      " [1.0000e+00 5.2000e+01 2.7040e+03]\n",
      " [1.0000e+00 1.5000e+02 2.2500e+04]\n",
      " [1.0000e+00 9.7000e+01 9.4090e+03]\n",
      " [1.0000e+00 7.0000e+01 4.9000e+03]\n",
      " [1.0000e+00 9.0000e+01 8.1000e+03]\n",
      " [1.0000e+00 1.1000e+02 1.2100e+04]\n",
      " [1.0000e+00 8.6000e+01 7.3960e+03]\n",
      " [1.0000e+00 9.0000e+01 8.1000e+03]\n",
      " [1.0000e+00 9.7000e+01 9.4090e+03]\n",
      " [1.0000e+00 9.2000e+01 8.4640e+03]\n",
      " [1.0000e+00 7.0000e+01 4.9000e+03]\n",
      " [1.0000e+00 6.0000e+01 3.6000e+03]\n",
      " [1.0000e+00 9.0000e+01 8.1000e+03]\n",
      " [1.0000e+00 7.9000e+01 6.2410e+03]\n",
      " [1.0000e+00 8.8000e+01 7.7440e+03]\n",
      " [1.0000e+00 7.0000e+01 4.9000e+03]\n",
      " [1.0000e+00 1.5000e+02 2.2500e+04]\n",
      " [1.0000e+00 9.5000e+01 9.0250e+03]\n",
      " [1.0000e+00 6.3000e+01 3.9690e+03]\n",
      " [1.0000e+00 1.1500e+02 1.3225e+04]\n",
      " [1.0000e+00 1.5000e+02 2.2500e+04]\n",
      " [1.0000e+00 5.2000e+01 2.7040e+03]\n",
      " [1.0000e+00 1.5000e+02 2.2500e+04]\n",
      " [1.0000e+00 1.1000e+02 1.2100e+04]\n",
      " [1.0000e+00 9.5000e+01 9.0250e+03]\n",
      " [1.0000e+00 1.0500e+02 1.1025e+04]\n",
      " [1.0000e+00 9.0000e+01 8.1000e+03]\n",
      " [1.0000e+00 1.4000e+02 1.9600e+04]\n",
      " [1.0000e+00 7.7000e+01 5.9290e+03]\n",
      " [1.0000e+00 1.0000e+02 1.0000e+04]\n",
      " [1.0000e+00 8.8000e+01 7.7440e+03]\n",
      " [1.0000e+00 1.1300e+02 1.2769e+04]\n",
      " [1.0000e+00 4.9000e+01 2.4010e+03]\n",
      " [1.0000e+00 9.3000e+01 8.6490e+03]\n",
      " [1.0000e+00 9.2000e+01 8.4640e+03]\n",
      " [1.0000e+00 6.8000e+01 4.6240e+03]\n",
      " [1.0000e+00 7.6000e+01 5.7760e+03]\n",
      " [1.0000e+00 6.5000e+01 4.2250e+03]\n",
      " [1.0000e+00 7.4000e+01 5.4760e+03]\n",
      " [1.0000e+00 8.8000e+01 7.7440e+03]\n",
      " [1.0000e+00 1.5000e+02 2.2500e+04]\n",
      " [1.0000e+00 8.8000e+01 7.7440e+03]\n",
      " [1.0000e+00 1.0000e+02 1.0000e+04]\n",
      " [1.0000e+00 8.1000e+01 6.5610e+03]\n",
      " [1.0000e+00 8.8000e+01 7.7440e+03]\n",
      " [1.0000e+00 1.5000e+02 2.2500e+04]\n",
      " [1.0000e+00 1.0000e+02 1.0000e+04]\n",
      " [1.0000e+00 9.0000e+01 8.1000e+03]\n",
      " [1.0000e+00 1.3700e+02 1.8769e+04]\n",
      " [1.0000e+00 1.2500e+02 1.5625e+04]\n",
      " [1.0000e+00 9.0000e+01 8.1000e+03]\n",
      " [1.0000e+00 7.5000e+01 5.6250e+03]\n",
      " [1.0000e+00 8.3000e+01 6.8890e+03]\n",
      " [1.0000e+00 7.2000e+01 5.1840e+03]\n",
      " [1.0000e+00 1.5000e+02 2.2500e+04]\n",
      " [1.0000e+00 1.3800e+02 1.9044e+04]\n",
      " [1.0000e+00 8.5000e+01 7.2250e+03]\n",
      " [1.0000e+00 8.3000e+01 6.8890e+03]\n",
      " [1.0000e+00 1.9300e+02 3.7249e+04]\n",
      " [1.0000e+00 7.5000e+01 5.6250e+03]\n",
      " [1.0000e+00 7.5000e+01 5.6250e+03]\n",
      " [1.0000e+00 9.5000e+01 9.0250e+03]\n",
      " [1.0000e+00 1.0200e+02 1.0404e+04]\n",
      " [1.0000e+00 1.4000e+02 1.9600e+04]\n",
      " [1.0000e+00 1.0500e+02 1.1025e+04]\n",
      " [1.0000e+00 7.2000e+01 5.1840e+03]\n",
      " [1.0000e+00 1.5000e+02 2.2500e+04]\n",
      " [1.0000e+00 7.1000e+01 5.0410e+03]\n",
      " [1.0000e+00 8.0000e+01 6.4000e+03]\n",
      " [1.0000e+00 9.0000e+01 8.1000e+03]\n",
      " [1.0000e+00 7.0000e+01 4.9000e+03]\n",
      " [1.0000e+00 8.9000e+01 7.9210e+03]\n",
      " [1.0000e+00 1.4000e+02 1.9600e+04]\n",
      " [1.0000e+00 6.7000e+01 4.4890e+03]\n",
      " [1.0000e+00 9.6000e+01 9.2160e+03]\n",
      " [1.0000e+00 1.0000e+02 1.0000e+04]\n",
      " [1.0000e+00 1.3300e+02 1.7689e+04]\n",
      " [1.0000e+00 1.4000e+02 1.9600e+04]\n",
      " [1.0000e+00 1.4500e+02 2.1025e+04]\n",
      " [1.0000e+00 7.2000e+01 5.1840e+03]\n",
      " [1.0000e+00 1.0000e+02 1.0000e+04]\n",
      " [1.0000e+00 1.1200e+02 1.2544e+04]\n",
      " [1.0000e+00 9.7000e+01 9.4090e+03]\n",
      " [1.0000e+00 1.4500e+02 2.1025e+04]\n",
      " [1.0000e+00 8.5000e+01 7.2250e+03]\n",
      " [1.0000e+00 1.0000e+02 1.0000e+04]\n",
      " [1.0000e+00 9.0000e+01 8.1000e+03]\n",
      " [1.0000e+00 9.5000e+01 9.0250e+03]\n",
      " [1.0000e+00 6.9000e+01 4.7610e+03]\n",
      " [1.0000e+00 1.1600e+02 1.3456e+04]\n",
      " [1.0000e+00 7.6000e+01 5.7760e+03]\n",
      " [1.0000e+00 1.0000e+02 1.0000e+04]\n",
      " [1.0000e+00 1.0000e+02 1.0000e+04]\n",
      " [1.0000e+00 7.0000e+01 4.9000e+03]\n",
      " [1.0000e+00 9.7000e+01 9.4090e+03]\n",
      " [1.0000e+00 8.0000e+01 6.4000e+03]\n",
      " [1.0000e+00 1.9800e+02 3.9204e+04]\n",
      " [1.0000e+00 5.4000e+01 2.9160e+03]\n",
      " [1.0000e+00 9.0000e+01 8.1000e+03]\n",
      " [1.0000e+00 8.0000e+01 6.4000e+03]\n",
      " [1.0000e+00 7.9000e+01 6.2410e+03]\n",
      " [1.0000e+00 8.4000e+01 7.0560e+03]\n",
      " [1.0000e+00 1.3000e+02 1.6900e+04]\n",
      " [1.0000e+00 9.2000e+01 8.4640e+03]\n",
      " [1.0000e+00 6.7000e+01 4.4890e+03]\n",
      " [1.0000e+00 1.3000e+02 1.6900e+04]\n",
      " [1.0000e+00 5.2000e+01 2.7040e+03]\n",
      " [1.0000e+00 8.3000e+01 6.8890e+03]\n",
      " [1.0000e+00 1.0500e+02 1.1025e+04]\n",
      " [1.0000e+00 9.5000e+01 9.0250e+03]\n",
      " [1.0000e+00 1.5500e+02 2.4025e+04]\n",
      " [1.0000e+00 1.4000e+02 1.9600e+04]\n",
      " [1.0000e+00 9.5000e+01 9.0250e+03]\n",
      " [1.0000e+00 7.2000e+01 5.1840e+03]\n",
      " [1.0000e+00 6.5000e+01 4.2250e+03]\n",
      " [1.0000e+00 7.5000e+01 5.6250e+03]\n",
      " [1.0000e+00 2.1000e+02 4.4100e+04]\n",
      " [1.0000e+00 1.0500e+02 1.1025e+04]\n",
      " [1.0000e+00 1.1000e+02 1.2100e+04]\n",
      " [1.0000e+00 7.6000e+01 5.7760e+03]\n",
      " [1.0000e+00 8.0000e+01 6.4000e+03]\n",
      " [1.0000e+00 1.1000e+02 1.2100e+04]\n",
      " [1.0000e+00 5.8000e+01 3.3640e+03]\n",
      " [1.0000e+00 1.4500e+02 2.1025e+04]\n",
      " [1.0000e+00 7.0000e+01 4.9000e+03]\n",
      " [1.0000e+00 1.5300e+02 2.3409e+04]\n",
      " [1.0000e+00 1.7500e+02 3.0625e+04]\n",
      " [1.0000e+00 6.0000e+01 3.6000e+03]\n",
      " [1.0000e+00 1.8000e+02 3.2400e+04]\n",
      " [1.0000e+00 1.1500e+02 1.3225e+04]\n",
      " [1.0000e+00 1.1000e+02 1.2100e+04]\n",
      " [1.0000e+00 9.0000e+01 8.1000e+03]\n",
      " [1.0000e+00 8.8000e+01 7.7440e+03]\n",
      " [1.0000e+00 7.2000e+01 5.1840e+03]\n",
      " [1.0000e+00 8.0000e+01 6.4000e+03]\n",
      " [1.0000e+00 7.4000e+01 5.4760e+03]\n",
      " [1.0000e+00 1.4000e+02 1.9600e+04]\n",
      " [1.0000e+00 7.0000e+01 4.9000e+03]\n",
      " [1.0000e+00 1.5000e+02 2.2500e+04]\n",
      " [1.0000e+00 1.3000e+02 1.6900e+04]\n",
      " [1.0000e+00 1.5000e+02 2.2500e+04]\n",
      " [1.0000e+00 8.5000e+01 7.2250e+03]\n",
      " [1.0000e+00 1.6500e+02 2.7225e+04]\n",
      " [1.0000e+00 9.5000e+01 9.0250e+03]\n",
      " [1.0000e+00 9.5000e+01 9.0250e+03]\n",
      " [1.0000e+00 7.5000e+01 5.6250e+03]\n",
      " [1.0000e+00 8.7000e+01 7.5690e+03]\n",
      " [1.0000e+00 9.0000e+01 8.1000e+03]\n",
      " [1.0000e+00 1.2000e+02 1.4400e+04]\n",
      " [1.0000e+00 9.5000e+01 9.0250e+03]\n",
      " [1.0000e+00 1.0800e+02 1.1664e+04]\n",
      " [1.0000e+00 8.5000e+01 7.2250e+03]\n",
      " [1.0000e+00 1.1500e+02 1.3225e+04]\n",
      " [1.0000e+00 8.4000e+01 7.0560e+03]\n",
      " [1.0000e+00 5.3000e+01 2.8090e+03]\n",
      " [1.0000e+00 7.5000e+01 5.6250e+03]\n",
      " [1.0000e+00 7.5000e+01 5.6250e+03]\n",
      " [1.0000e+00 7.8000e+01 6.0840e+03]\n",
      " [1.0000e+00 1.1000e+02 1.2100e+04]\n",
      " [1.0000e+00 8.6000e+01 7.3960e+03]\n",
      " [1.0000e+00 1.7000e+02 2.8900e+04]\n",
      " [1.0000e+00 1.4000e+02 1.9600e+04]\n",
      " [1.0000e+00 1.8000e+02 3.2400e+04]] \n",
      "\n"
     ]
    }
   ],
   "source": [
    "# first thing first retrieve the desidered column feature we will use\n",
    "# we transform it into a numpy array\n",
    "x = train[\"horsepower\"].to_numpy()\n",
    "# thanks to the built in function we can retrieve the quadratic polynomial,\n",
    "# here we simply create an object that will be able to give us back the new features later\n",
    "new_quadratic_features = PolynomialFeatures(degree=2)\n",
    "# from teacher :\n",
    "#   if you don't reshape X as such if it's a single feature\n",
    "#   vector you will get an error telling you to do so\n",
    "# by reshaping we change the dimension from (n) to (n,1), it is like a matrix \n",
    "# the fit_transform is able to transform the features and give us back also the new quadratic ones\n",
    "x_quadratic_train = new_quadratic_features.fit_transform(x.reshape(-1,1))\n",
    "print(\"the shape of the new matrix is : \\n\",x_quadratic_train.shape, \"\\n\" )\n",
    "print(\"while the new training matrix is : \\n\", x_quadratic_train,\"\\n\" )\n",
    "\n"
   ]
  },
  {
   "cell_type": "code",
   "execution_count": 114,
   "metadata": {},
   "outputs": [
    {
     "name": "stdout",
     "output_type": "stream",
     "text": [
      "the quadratic mse is : 21.202064720220054\n"
     ]
    }
   ],
   "source": [
    "# Now it is time to fit the model \n",
    "# do exactly what we did before but with the new features\n",
    "lmq = sm.OLS(y_train,x_quadratic_train).fit()\n",
    "lmq.summary() # print this to see the parameters of the regression\n",
    "\n",
    "# now get the mse of the regression\n",
    "# remembeeer that we are working with 2d's array so we have to transform\n",
    "x_quadratic_test = new_quadratic_features.fit_transform((testing['horsepower']).to_numpy().reshape(-1,1))\n",
    "quadratic_mse = compute_mse(lmq, x_quadratic_test,y_test)\n",
    "print(\"the quadratic mse is :\", quadratic_mse)\n",
    "\n"
   ]
  },
  {
   "cell_type": "markdown",
   "metadata": {},
   "source": [
    "*NOW DO THE SAME THING FOR THE CUBIC MODEL*\n",
    "\n",
    "follow the same procedure that was done for the quadratic but change the polynomial degree to cubic meaning degree=3\n",
    "\n",
    "written by Lamberto Ragnolini"
   ]
  },
  {
   "cell_type": "code",
   "execution_count": 115,
   "metadata": {},
   "outputs": [
    {
     "name": "stdout",
     "output_type": "stream",
     "text": [
      "the cubic mse is :  21.213560453128846\n"
     ]
    }
   ],
   "source": [
    "# cubic regression\n",
    "new_cubic_features = PolynomialFeatures(degree=3)\n",
    "\n",
    "# create new fetaures\n",
    "new_x = train['horsepower']\n",
    "x_cubic_train = new_cubic_features.fit_transform(new_x.to_numpy().reshape(-1,1))\n",
    "x_cubic_testing = new_cubic_features.fit_transform(testing['horsepower'].to_numpy().reshape(-1,1))\n",
    "\n",
    "# do the regression\n",
    "lmc = sm.OLS(y_train,x_cubic_train).fit()\n",
    "lmc.summary() #print this if you wanna see the regression parameters\n",
    "\n",
    "# get the mse of the cubic regression\n",
    "cubic_mse = compute_mse(lmc,x_cubic_testing, y_test)\n",
    "print(\"the cubic mse is : \", cubic_mse)\n"
   ]
  },
  {
   "cell_type": "markdown",
   "metadata": {},
   "source": [
    "Which model would you choose based on the estimated MSE? "
   ]
  },
  {
   "cell_type": "markdown",
   "metadata": {},
   "source": [
    "I would personally choose the quadratic one because it's mse is the lowest\n",
    "\n",
    "written by Lamberto Ragnolini"
   ]
  },
  {
   "cell_type": "markdown",
   "metadata": {},
   "source": [
    "\n",
    "If you instead train the models on the entire data and perform model selection via F-tests or AIC, would you choose differently?"
   ]
  },
  {
   "cell_type": "code",
   "execution_count": 116,
   "metadata": {},
   "outputs": [
    {
     "name": "stdout",
     "output_type": "stream",
     "text": [
      "first model aic is :  2361.3236578374017\n",
      "qudratic model aic is :  2272.353522359692\n",
      "cubic model aic is :  2273.531296711554\n"
     ]
    }
   ],
   "source": [
    "# The only way to find out is to actually compute them so: \n",
    "\n",
    "lm1_total_data = ols(\"mpg ~ horsepower\", Auto).fit()\n",
    "lm_quadratic_total_data = ols(\"mpg ~ horsepower + I(horsepower**2)\",Auto).fit()\n",
    "lm_cubic_total_data = ols(\"mpg ~ horsepower +I(horsepower**2) + I(horsepower**3)\", Auto).fit()\n",
    "\n",
    "print(\"first model aic is : \", lm1_total_data.aic)\n",
    "print(\"qudratic model aic is : \", lm_quadratic_total_data.aic)\n",
    "print(\"cubic model aic is : \", lm_cubic_total_data.aic)"
   ]
  },
  {
   "cell_type": "markdown",
   "metadata": {},
   "source": [
    "From the initial choice that someone would make, the preferred model to choose is the second one because it has the lower aic. As the teacher points out though, aic tends to favorite easier models and sometimes this results in underfitting so we gotta be careful when we actually make our choice."
   ]
  },
  {
   "cell_type": "markdown",
   "metadata": {},
   "source": [
    "## Leave-one-out cross-validation\n",
    "\n",
    "Implement leave-one-out cross-validation and use it to estimate the MSE for the three regression models above."
   ]
  },
  {
   "cell_type": "code",
   "execution_count": 117,
   "metadata": {},
   "outputs": [],
   "source": [
    "# WATCH NOTES if you don't remember how this works\n",
    "# general concept :\n",
    "#   split data into n partitions, from every partition leave one point out that is gonna be used for testing\n",
    "#   given this approach we will have ith test mse for each partition\n",
    "#   this leads to a test mse = AVG(test error) of all the mse'set\n",
    "\n",
    "# As ususal we don't have to complicate our life by implementing from scratch the methods but we can use built-in functions\n",
    "from sklearn.model_selection import LeaveOneOut\n",
    "\n",
    "# declare and instance of the leaveOneOut method\n",
    "loocv = LeaveOneOut()"
   ]
  },
  {
   "cell_type": "code",
   "execution_count": 118,
   "metadata": {},
   "outputs": [],
   "source": [
    "# returns the desidered model\n",
    "# more explanation below in the call\n",
    "\n",
    "def compute_desidered_formula_model(i):\n",
    "    \n",
    "    formula = \"mpg ~ horsepower\"\n",
    "\n",
    "    if i == 1 :\n",
    "        return formula\n",
    "    else :\n",
    "        for j in range(2,i+1):\n",
    "            formula += f\" + I(horsepower**{j})\"\n",
    "\n",
    "    return formula\n"
   ]
  },
  {
   "cell_type": "code",
   "execution_count": 119,
   "metadata": {},
   "outputs": [
    {
     "name": "stdout",
     "output_type": "stream",
     "text": [
      "24.231513517929244\n",
      "19.248213124489528\n",
      "19.334984064022766\n"
     ]
    }
   ],
   "source": [
    "# We want now to estimate the mse using leaveOneOut approach of the three created models\n",
    "\n",
    "# create a variable where to store the mse we get as answer\n",
    "mses = [0] *3\n",
    "\n",
    "# the splitting basically splits the data into training and testing data for each iteration, that are gonna be stored in the two train,test data,\n",
    "# enumerate basically gives the counter increment to i\n",
    "# To recap, this iteration iterates for n times with n being the number of data points in the dataset, every time it creates a :\n",
    "#   training set [0,...,n-1] containing n-1 elements\n",
    "#   test set [i] containing the ith element of the iteration \n",
    "for i,(train,test) in enumerate(loocv.split(Auto)):\n",
    "    # now we have to keep track of the models we wanna create\n",
    "    model = []\n",
    "    # remember the indexes fact, now we have to retrieve the real feautures\n",
    "    train_loocv = Auto.iloc[train] #training features\n",
    "    test_loocv = Auto.iloc[test] #test feature\n",
    "    real_y = test_loocv['mpg'] # dependent variable we are interested in, the real one\n",
    "    test_x = test_loocv['horsepower'] #independent variable we are interested in\n",
    "\n",
    "    # now we wanna test the models we created before with the quadratic, cubic etc...\n",
    "    # to do this we can create an auxilliary function that gives us back the model desidered\n",
    "    for j in range(1,4):\n",
    "        # retrieve formula \n",
    "        formula = compute_desidered_formula_model(j)\n",
    "        # compute regression\n",
    "        lm = ols(formula,train_loocv).fit()\n",
    "        # save the computed regression\n",
    "        model.append(lm)\n",
    "    \n",
    "    for l in range(len(model)):\n",
    "        # As before calculate the mse for the current model\n",
    "        pred = model[l].get_prediction(test_x).summary_frame()[\"mean\"]\n",
    "        # BEE CAREFULL here WE ARE ADDING the msees for every iteration, THIS IS VERY IMPORTANT\n",
    "        # the overall mse is the avg(test error) and to get it we need to have the overall result of all the calculated mses\n",
    "        mses[l] += sm.tools.eval_measures.mse(real_y,pred)\n",
    "    \n",
    "for i in range(len(mses)):\n",
    "    avg_mse = mses[i] / (Auto.shape[0])\n",
    "    print(avg_mse)\n"
   ]
  },
  {
   "cell_type": "markdown",
   "metadata": {},
   "source": [
    "## k-fold cross-validation\n",
    "\n",
    "Estimate the MSE now from k-fold cross-validation that you implement yourself. If you set k=10, then you get Figure 5.6 from the book, but you are welcome to choose another k. Make sure that you properly randomise observations into the k folds! One way is to first make a random permutation of row indices and then chop the re-ordered dataset into k (roughly) even parts."
   ]
  },
  {
   "cell_type": "markdown",
   "metadata": {},
   "source": [
    "The LOOCV estimate of the MSE can also be computed automatially with sklearn. In fact, sklearn provides a lot of functionality for cross-validation. However, our objective right now is to understand how the algorithms work, so that you learn to reflect on them and use the automatic functionality appropriately."
   ]
  },
  {
   "cell_type": "code",
   "execution_count": 120,
   "metadata": {},
   "outputs": [],
   "source": [
    "# k-fold cross-validation leaves 1 kth of the data out at a time\n",
    "# in the ith held-out we compute the MSE and then we take the avg of all the calculated mse\n",
    "# to work with k fold just import it from sklearn\n",
    "\n",
    "from sklearn.model_selection import KFold\n",
    "k = 10\n",
    "k_folds = KFold(n_splits = k)"
   ]
  },
  {
   "cell_type": "code",
   "execution_count": 121,
   "metadata": {},
   "outputs": [
    {
     "name": "stdout",
     "output_type": "stream",
     "text": [
      "27.439933652339864\n",
      "21.235840055806367\n",
      "21.3366061836332\n"
     ]
    }
   ],
   "source": [
    "models_mses = [0] * 3\n",
    "\n",
    "# we have to properly randomize the observations in the folds so we need to take\n",
    "# into consideration the permutation suggested in the markdown above\n",
    "\n",
    "# the sample function randomly samples lines from the dataset \n",
    "# frac=1 means that we are sampling 100% of the row, so effectively shuffling the entire dataframe\n",
    "# after the indexing the indexes are messed up so we use reset_index to reindex the new shuffled column 0 to n-1\n",
    "# drop = true means that we are dropping the old indexes\n",
    "auto_sh = Auto.sample(frac=1).reset_index(drop=True)\n",
    "\n",
    "# do the exact same thing we did above\n",
    "\n",
    "for i,(train,test) in enumerate(k_folds.split(auto_sh)):\n",
    "    # now we have to keep track of the models we wanna create\n",
    "    model = []\n",
    "    # remember the indexes fact, now we have to retrieve the real feautures\n",
    "    train_loocv = Auto.iloc[train] #training features\n",
    "    test_loocv = Auto.iloc[test] #test feature\n",
    "    real_y = test_loocv['mpg'] # dependent variable we are interested in, the real one\n",
    "    test_x = test_loocv['horsepower'] #independent variable we are interested in\n",
    "\n",
    "    # now we wanna test the models we created before with the quadratic, cubic etc...\n",
    "    # to do this we can create an auxilliary function that gives us back the model desidered\n",
    "    for j in range(1,4):\n",
    "        # retrieve formula \n",
    "        formula = compute_desidered_formula_model(j)\n",
    "        # compute regression\n",
    "        lm = ols(formula,train_loocv).fit()\n",
    "        # save the computed regression\n",
    "        model.append(lm)\n",
    "    \n",
    "    for l in range(len(model)):\n",
    "        # As before calculate the mse for the current model\n",
    "        pred = model[l].get_prediction(test_x).summary_frame()[\"mean\"]\n",
    "        # BEE CAREFULL here WE ARE ADDING the msees for every iteration, THIS IS VERY IMPORTANT\n",
    "        # the overall mse is the avg(test error) and to get it we need to have the overall result of all the calculated mses\n",
    "        models_mses[l] += sm.tools.eval_measures.mse(real_y,pred)\n",
    "    \n",
    "for i in range(len(models_mses)):\n",
    "    avg_k_mse = models_mses[i] / k\n",
    "    print(avg_k_mse)\n",
    "\n",
    "\n"
   ]
  },
  {
   "cell_type": "markdown",
   "metadata": {},
   "source": [
    "Extend your code with a for-loop that iterates over increasing orders of the polynomial (1 to 10). Note that is possible to autogenerate a design matrix with all the terms of the polynomial with functions such as `sklearn.preprocessing.PolynomialFeatures` (It should also work for several features; a degree 2 polynomial in features x1 and x2 would need  $1+x_1+x_2+x_1x_2+x_1^2+x_2^2$, i.e. also the term $x_1x_2$.)"
   ]
  },
  {
   "cell_type": "code",
   "execution_count": 122,
   "metadata": {},
   "outputs": [
    {
     "name": "stdout",
     "output_type": "stream",
     "text": [
      "mse for degree 1  : 27.439933652339864\n",
      "mse for degree 2  : 21.235840055806367\n",
      "mse for degree 3  : 21.3366061836332\n",
      "mse for degree 4  : 21.35388692299275\n",
      "mse for degree 5  : 20.905668490831523\n",
      "mse for degree 6  : 20.8970104598246\n",
      "mse for degree 7  : 20.95533584531355\n",
      "mse for degree 8  : 25.655499601754162\n",
      "mse for degree 9  : 25.912028574581917\n",
      "mse for degree 10  : 65.60749032372748\n"
     ]
    }
   ],
   "source": [
    "models_mses = [0] * 10\n",
    "\n",
    "# do the exact same thing we did above\n",
    "\n",
    "for i,(train,test) in enumerate(k_folds.split(auto_sh)):\n",
    "    model = []\n",
    "    train_loocv = Auto.iloc[train] #training features\n",
    "    test_loocv = Auto.iloc[test] #test feature\n",
    "    real_y = test_loocv['mpg'] # dependent variable we are interested in, the real one\n",
    "    test_x = test_loocv['horsepower'] #independent variable we are interested in\n",
    "\n",
    "    # Now instead of stopping only to the cubic we fit our model with polynomials of up to 10th degree\n",
    "    for j in range(1,11):\n",
    "        formula = compute_desidered_formula_model(j)\n",
    "        lm = ols(formula,train_loocv).fit()\n",
    "        model.append(lm)\n",
    "    \n",
    "    for l in range(len(model)):\n",
    "        pred = model[l].get_prediction(test_x).summary_frame()[\"mean\"]\n",
    "        models_mses[l] += sm.tools.eval_measures.mse(real_y,pred)\n",
    "    \n",
    "avg_mses = []\n",
    "for i in range(len(models_mses)):\n",
    "    avg_mse = models_mses[i] / 10\n",
    "    avg_mses.append(avg_mse)\n",
    "    print(f\"mse for degree {i+1}  : {avg_mse}\")\n"
   ]
  },
  {
   "cell_type": "markdown",
   "metadata": {},
   "source": [
    "Plot the resulting MSE curve against the degree of the polynomial (this is the complexity or the flexibility). \n",
    "\n",
    "Do you get the same conclusion as before regarding your choice of model?\n",
    "\n",
    "Was it faster than LOOCV?"
   ]
  },
  {
   "cell_type": "code",
   "execution_count": 123,
   "metadata": {},
   "outputs": [
    {
     "data": {
      "text/plain": [
       "([<matplotlib.axis.XTick at 0x7fac307ec400>,\n",
       "  <matplotlib.axis.XTick at 0x7fac307ecb50>,\n",
       "  <matplotlib.axis.XTick at 0x7fac307ecc40>,\n",
       "  <matplotlib.axis.XTick at 0x7fac3084a770>,\n",
       "  <matplotlib.axis.XTick at 0x7fac3084a8c0>,\n",
       "  <matplotlib.axis.XTick at 0x7fac3084b9d0>,\n",
       "  <matplotlib.axis.XTick at 0x7fac3084a200>,\n",
       "  <matplotlib.axis.XTick at 0x7fac3084ba90>,\n",
       "  <matplotlib.axis.XTick at 0x7fac30874820>,\n",
       "  <matplotlib.axis.XTick at 0x7fac30875000>],\n",
       " [Text(1, 0, '1'),\n",
       "  Text(2, 0, '2'),\n",
       "  Text(3, 0, '3'),\n",
       "  Text(4, 0, '4'),\n",
       "  Text(5, 0, '5'),\n",
       "  Text(6, 0, '6'),\n",
       "  Text(7, 0, '7'),\n",
       "  Text(8, 0, '8'),\n",
       "  Text(9, 0, '9'),\n",
       "  Text(10, 0, '10')])"
      ]
     },
     "execution_count": 123,
     "metadata": {},
     "output_type": "execute_result"
    },
    {
     "data": {
      "image/png": "[encoded data removed]",
      "text/plain": [
       "<Figure size 640x480 with 1 Axes>"
      ]
     },
     "metadata": {},
     "output_type": "display_data"
    }
   ],
   "source": [
    "# list(range(1,11)) generates the values 1-10 that will be on the x axis\n",
    "plt.plot(list(range(1,11)),avg_mses)\n",
    "plt.title(\"avg MSE for different degress 0 to 10\")\n",
    "plt.xlabel(\"degrees\")\n",
    "plt.ylabel(\"avg mses\")\n",
    "# ensures that all the units on the x-axis are displayed\n",
    "plt.xticks(list(range(1,11)))"
   ]
  },
  {
   "cell_type": "markdown",
   "metadata": {},
   "source": [
    "Answer taken from Teaching assistant : \n",
    "\n",
    "Based on the above plot, we would still choose the 2nd degree polynomial.\n",
    "We can also notice that the KFold with 10 splits executed a lot faster than the LOOCV (Which makes sense, because LOOCV is esentially KFold with K=n, where n is the number of samples in your dataset. These numbers of folds correspond with how many times you execute the loop, so the more folds you have the slower the calculation will be)."
   ]
  },
  {
   "cell_type": "markdown",
   "metadata": {},
   "source": [
    "## Shrinkage/Regularization\n",
    "\n",
    "Now try the two shrinkage methods we saw on Thursday, ridge regression and lasso. To make things a bit more exciting, include in your models all variables available in the dataset, and perhaps a few polynomial terms for `horsepower` now that you know they are relevant. The `name` variable is evidently an identifyer and should not be used as a predictor in the model.\n",
    "\n",
    "The Lasso estimates for coefficients $\\beta$ in a linear regression model are found by minimising $RSS + \\lambda\\sum_{j=1}^p|\\beta_j|$ rather than RSS. \n",
    "\n",
    "In Ridge regression, we estimate $\\beta$ by minimising $RSS + \\lambda\\sum_{j=1}^p\\beta_j^2$ rather than RSS. \n",
    "\n",
    "In both cases, we need to set the regularation parameter $\\lambda$. **The parameter $\\lambda$ is called `alpha` in the Python implementations**\n",
    "\n",
    "\n",
    "The relevant method in the statsmodel library is `fit_regularized`, which you use in place of `fit` after instantiating an ols model. If `L1_wt=1`, the fit is the lasso (L1-penalty). Ridge regression (L2-penalty) is obtained by setting `L1_wt=0`.  The reason we need to set parameter `L1_wt` is that the method actually implements the more general 'elastic net' penalty, which is a convex combination of the Lasso penalty and the ridge regression penalty with weight `L1_wt`. The fitting method returns a `RegressionResults` object, from which you can extract `params` and `fittedvalues`, and it has a `predict` method just like the usual linear regression output from ols.\n",
    "\n",
    "The sklearn libary has methods `Ridge` and `Lasso`. \n",
    "\n",
    "**Set aside a test set of about 25% of the data that you can use at the end to estimate the MSE of your final model. Use the remaining data to train the regularised regression models.**\n",
    "\n",
    "### Ridge regression\n",
    "\n",
    "First, carry out a ridge regression where the regulation parameter $\\lambda$ is fixed at 10. "
   ]
  },
  {
   "cell_type": "code",
   "execution_count": 124,
   "metadata": {},
   "outputs": [
    {
     "name": "stdout",
     "output_type": "stream",
     "text": [
      "294\n"
     ]
    }
   ],
   "source": [
    "from sklearn.linear_model import Ridge\n",
    "\n",
    "# we wanna keep 25% of the data for the testing part so 75% will be for the training\n",
    "\n",
    "# .shape[0] returns the number of rows, so we get the total number of samples\n",
    "train_indexes = int(Auto.shape[0] *0.75)\n",
    "# select from 0 to 294 (train_indexes)\n",
    "# the 1:8 means to select feautures from the second column till the last, have a look at the dataset to see which features toi leave out i.e name\n",
    "train_x = (Auto.iloc[:train_indexes,1:8]).to_numpy()\n",
    "# this selects only the values from the 0th column which are the true values 0 or 1\n",
    "train_y = (Auto.iloc[:train_indexes, 0]).to_numpy()\n",
    "# same for this two but for the testing data\n",
    "test_x = (Auto.iloc[train_indexes:, 1:8]).to_numpy()\n",
    "test_y = (Auto.iloc[train_indexes:, 0]).to_numpy()\n",
    "\n",
    "print(train_indexes)"
   ]
  },
  {
   "cell_type": "code",
   "execution_count": 125,
   "metadata": {},
   "outputs": [
    {
     "name": "stdout",
     "output_type": "stream",
     "text": [
      "35.86250991322583\n"
     ]
    }
   ],
   "source": [
    "# now do ridge\n",
    "# start with alpha = 10\n",
    "# fit model\n",
    "ridge_regression = Ridge(alpha=10)\n",
    "ridge_regression.fit(train_x,train_y)\n",
    "\n",
    "# test the model always using the predict\n",
    "# calculate the mse for it\n",
    "predictions = ridge_regression.predict(test_x)\n",
    "ridge_mse = sm.tools.eval_measures.mse(test_y,predictions)\n",
    "print(ridge_mse)\n"
   ]
  },
  {
   "cell_type": "markdown",
   "metadata": {},
   "source": [
    "In fact, $\\lambda = 10$ is a rather arbitrary suggestion. We need to decide on a suitable value for the hyperparameter $\\lambda$. This we can do using a dedicated validation set, or we could do it by cross-validation. We do the latter.\n",
    "\n",
    "Take a suitable range of $\\lambda \\in [0, \\infty)$, for instance you can take a sequence $10^i, i=-2, \\ldots, 5$. Using 5-fold cross-validation to estimate the MSE (call it `MSE_lambda`) for each $\\lambda$, make a plot of how MSE changes with $\\lambda$. Based on this plot, how would you choose $\\lambda$? "
   ]
  },
  {
   "cell_type": "code",
   "execution_count": 128,
   "metadata": {},
   "outputs": [
    {
     "name": "stdout",
     "output_type": "stream",
     "text": [
      "Avg MSE (val data) for ridge regression with lambda=-2: 12.81909362255712\n",
      "Avg MSE (val data) for ridge regression with lambda=-1: 12.818921174735584\n",
      "Avg MSE (val data) for ridge regression with lambda=0: 12.817316378911105\n",
      "Avg MSE (val data) for ridge regression with lambda=1: 12.810705977585448\n",
      "Avg MSE (val data) for ridge regression with lambda=2: 12.936294798447047\n",
      "Avg MSE (val data) for ridge regression with lambda=3: 13.637184809237393\n",
      "Avg MSE (val data) for ridge regression with lambda=4: 17.19582531048932\n",
      "Avg MSE (val data) for ridge regression with lambda=5: 19.33671937042007\n"
     ]
    }
   ],
   "source": [
    "# the following code is identical to the solution but yields problems so just copied code from solutions\n",
    "\n",
    "# retrieve the features\n",
    "# train_features = auto_sh.iloc[:train_indexes]\n",
    "\n",
    "# fold_five = KFold(n_splits=5)\n",
    "\n",
    "# model_mses = [0] * 8\n",
    "\n",
    "# for i,(train_i,test_i) in enumerate(fold_five.split(train_features)):\n",
    "#     model = []\n",
    "    \n",
    "#     # taken from solution\n",
    "#     train_loocv = train_features.iloc[train_i]\n",
    "#     y_train_loocv = train_loocv.iloc[:,0]\n",
    "#     train_loocv = train_loocv.iloc[:,1:8]\n",
    "#     val_loocv = train_features.iloc[test_i]\n",
    "#     true_vals = val_loocv.iloc[:, 0]\n",
    "#     val_loocv = val_loocv.iloc[:, 1:8]\n",
    "\n",
    "#     # now our lambda needs to be 10^j with j= -2...5\n",
    "#     for j in range(-2,6):\n",
    "#         lamda = 10**j\n",
    "#         ridge_reg = Ridge(alpha=lamda)\n",
    "#         ridge_reg.fit(train_loocv,y_train_loocv)\n",
    "#         model.append(ridge_reg)\n",
    "    \n",
    "#     for l in range(8):\n",
    "#         predictions = model[l].predict(val_loocv)\n",
    "#         model_mses[i] += sm.tools.eval_measures.mse(true_vals, predictions)\n",
    "    \n",
    "# avg_mses = []\n",
    "# for i in range(8):\n",
    "#     avg_mse = models_mses[i] / 5\n",
    "#     avg_mses.append(avg_mse)\n",
    "#     print(f\"mse for lamda {i-2}  : {avg_mse}\")\n",
    "\n",
    "train_data = auto_sh.iloc[:train_indexes]\n",
    "\n",
    "kf5 = KFold(n_splits=5)\n",
    "metrics = [0] * 8\n",
    "\n",
    "for i, (train_idx, val_idx) in enumerate(kf5.split(train_data)):\n",
    "    \n",
    "    models = []\n",
    "    \n",
    "    train_loocv = train_data.iloc[train_idx]\n",
    "    y_train_loocv = train_loocv.iloc[:,0]\n",
    "    train_loocv = train_loocv.iloc[:,1:8]\n",
    "    val_loocv = train_data.iloc[val_idx]\n",
    "    true_vals = val_loocv.iloc[:, 0]\n",
    "    val_loocv = val_loocv.iloc[:, 1:8]\n",
    "    \n",
    "    for i in range(-2, 6):\n",
    "        \n",
    "        curr_lambda = 10**i\n",
    "        curr_ridge = Ridge(alpha = curr_lambda)\n",
    "        curr_ridge.fit(train_loocv, y_train_loocv)\n",
    "        models.append(curr_ridge)\n",
    "    \n",
    "    for i in range(8):\n",
    "\n",
    "        curr_preds =  models[i].predict(val_loocv)\n",
    "        metrics[i] += sm.tools.eval_measures.mse(true_vals, curr_preds)\n",
    "\n",
    "mses = []\n",
    "for i in range(8):\n",
    "    avg_mse = metrics[i] / 5\n",
    "    mses.append(avg_mse)\n",
    "    print(f\"Avg MSE (val data) for ridge regression with lambda={i-2}: {avg_mse}\")\n",
    "\n",
    "\n"
   ]
  },
  {
   "cell_type": "markdown",
   "metadata": {},
   "source": [
    "Having chosen a $\\lambda$, would it be appropriate to report the corresponding `MSE_lambda` as the test error for the ridge regression?\n",
    "Compute the test MSE using the dedicated test set and compare to `MSE_lambda`."
   ]
  },
  {
   "cell_type": "code",
   "execution_count": 134,
   "metadata": {},
   "outputs": [
    {
     "name": "stdout",
     "output_type": "stream",
     "text": [
      "35.51363598342456\n"
     ]
    }
   ],
   "source": [
    "# the lowest mse is the one for lamda=1\n",
    "# so regress with that tuning parameter\n",
    "ridge_lowest_lamda = Ridge(alpha=1)\n",
    "ridge_lowest_lamda.fit(train_x,train_y)\n",
    "\n",
    "predictions = ridge_lowest_lamda.predict(test_x)\n",
    "mse = sm.tools.eval_measures.mse(test_y,predictions)\n",
    "print(mse)\n"
   ]
  },
  {
   "cell_type": "markdown",
   "metadata": {},
   "source": [
    "In fact, once we have chosen the regularisation parameter $\\lambda$, we should preferably make use of *all of the data* to (re-)train the model, and then report the associated test MSE from the test data. Do this, and inspect the model estimates."
   ]
  },
  {
   "cell_type": "markdown",
   "metadata": {},
   "source": [
    "### Lasso\n",
    "\n",
    "Following the same procedure as for ridge regression, train a lasso regression where the regularisation parameter $\\lambda$ is selected by cross-validation. "
   ]
  },
  {
   "cell_type": "code",
   "execution_count": 136,
   "metadata": {},
   "outputs": [
    {
     "name": "stdout",
     "output_type": "stream",
     "text": [
      "Avg MSE (val data) for ridge regression with lambda=-2: 12.811170745105883\n",
      "Avg MSE (val data) for ridge regression with lambda=-1: 12.840102080858182\n",
      "Avg MSE (val data) for ridge regression with lambda=0: 13.272735294870765\n",
      "Avg MSE (val data) for ridge regression with lambda=1: 19.723326128330505\n",
      "Avg MSE (val data) for ridge regression with lambda=2: 20.308328470151285\n",
      "Avg MSE (val data) for ridge regression with lambda=3: 21.70849684721885\n",
      "Avg MSE (val data) for ridge regression with lambda=4: 62.44337977329243\n",
      "Avg MSE (val data) for ridge regression with lambda=5: 62.44337977329243\n"
     ]
    }
   ],
   "source": [
    "# we have to do THE EXACT SAME THING WE DID ABOVE BUT WHITH LASSO\n",
    "from sklearn.linear_model import Lasso\n",
    "\n",
    "train_data = auto_sh.iloc[:train_indexes]\n",
    "\n",
    "kf5 = KFold(n_splits=5)\n",
    "metrics = [0] * 8\n",
    "\n",
    "for i, (train_idx, val_idx) in enumerate(kf5.split(train_data)):\n",
    "    \n",
    "    models = []\n",
    "    \n",
    "    train_loocv = train_data.iloc[train_idx]\n",
    "    y_train_loocv = train_loocv.iloc[:,0]\n",
    "    train_loocv = train_loocv.iloc[:,1:8]\n",
    "    val_loocv = train_data.iloc[val_idx]\n",
    "    true_vals = val_loocv.iloc[:, 0]\n",
    "    val_loocv = val_loocv.iloc[:, 1:8]\n",
    "    \n",
    "    for i in range(-2, 6):\n",
    "        \n",
    "        curr_lambda = 10**i\n",
    "        curr_ridge = Lasso(alpha = curr_lambda)\n",
    "        curr_ridge.fit(train_loocv, y_train_loocv)\n",
    "        models.append(curr_ridge)\n",
    "    \n",
    "    for i in range(8):\n",
    "\n",
    "        curr_preds =  models[i].predict(val_loocv)\n",
    "        metrics[i] += sm.tools.eval_measures.mse(true_vals, curr_preds)\n",
    "\n",
    "mses = []\n",
    "for i in range(8):\n",
    "    avg_mse = metrics[i] / 5\n",
    "    mses.append(avg_mse)\n",
    "    print(f\"Avg MSE (val data) for ridge regression with lambda={i-2}: {avg_mse}\")"
   ]
  },
  {
   "cell_type": "code",
   "execution_count": 138,
   "metadata": {},
   "outputs": [
    {
     "name": "stdout",
     "output_type": "stream",
     "text": [
      "37.527683601426254\n"
     ]
    }
   ],
   "source": [
    "# lowest lamda is lamda = -2 -> 10^-2 = 0.1\n",
    "lasso = Lasso(alpha=0.1)\n",
    "lasso.fit(train_x, train_y)\n",
    "\n",
    "predictions = lasso.predict(test_x)\n",
    "mse = sm.tools.eval_measures.mse(test_y, predictions)\n",
    "print(mse)"
   ]
  },
  {
   "cell_type": "markdown",
   "metadata": {},
   "source": [
    "Compare the estimated coefficients for your lasso to those from the ridge regression -- did lasso result in a more sparse model? (i.e. did it set some coefficients to zero and thus eliminate features from the model)"
   ]
  },
  {
   "cell_type": "code",
   "execution_count": 139,
   "metadata": {},
   "outputs": [
    {
     "name": "stdout",
     "output_type": "stream",
     "text": [
      "Lasso coefficients:\n",
      "[-0.         -0.         -0.00812077 -0.00561074 -0.03032004  0.3949268\n",
      "  0.54294944]\n",
      "Ridge coefficients:\n",
      "[-0.36674651  0.00756434 -0.01631279 -0.00536778 -0.07208105  0.41626303\n",
      "  0.90708839]\n"
     ]
    }
   ],
   "source": [
    "print(\"Lasso coefficients:\")\n",
    "print(lasso.coef_)\n",
    "print(\"Ridge coefficients:\")\n",
    "print(ridge_lowest_lamda.coef_)"
   ]
  },
  {
   "cell_type": "markdown",
   "metadata": {},
   "source": [
    "Taken from solutions: \n",
    "\n",
    "Lasso did result in a sparse model, 2 coefficients were set to 0, while in the Ridge model no coefficients were set to 0. the coefficients that were set to 0 lead us to say that those two features are useless in terms of predicting what we would like to predict.\n",
    "\n",
    "last part written by Lamberto Ragnolini"
   ]
  }
 ],
 "metadata": {
  "kernelspec": {
   "display_name": "assignment-07-spark-1iOGQZrB-py3.10",
   "language": "python",
   "name": "python3"
  },
  "language_info": {
   "codemirror_mode": {
    "name": "ipython",
    "version": 3
   },
   "file_extension": ".py",
   "mimetype": "text/x-python",
   "name": "python",
   "nbconvert_exporter": "python",
   "pygments_lexer": "ipython3",
   "version": "3.10.12"
  }
 },
 "nbformat": 4,
 "nbformat_minor": 4
}
